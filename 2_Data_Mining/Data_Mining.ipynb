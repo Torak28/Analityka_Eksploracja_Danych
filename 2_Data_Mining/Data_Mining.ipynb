{
 "cells": [
  {
   "cell_type": "markdown",
   "metadata": {},
   "source": [
    "# Przygotowanie Danych"
   ]
  },
  {
   "cell_type": "code",
   "execution_count": 328,
   "metadata": {},
   "outputs": [],
   "source": [
    "import numpy as np\n",
    "import pandas as pd\n",
    "import matplotlib.pyplot as plt\n",
    "import seaborn as sns"
   ]
  },
  {
   "cell_type": "code",
   "execution_count": 342,
   "metadata": {},
   "outputs": [],
   "source": [
    "from sklearn.datasets import load_iris\n",
    "\n",
    "datContent = pd.read_csv(\"data//spam.dat\")\n",
    "# iris = load_iris()\n",
    "# datContent = pd.DataFrame(data= np.c_[iris['data'], iris['target']],\n",
    "#                         columns= iris['feature_names'] + ['target'])\n",
    "datContent = datContent.rename(index=str, columns={\"target\": \"K\"})"
   ]
  },
  {
   "cell_type": "code",
   "execution_count": 343,
   "metadata": {},
   "outputs": [
    {
     "data": {
      "text/html": [
       "<div>\n",
       "<style scoped>\n",
       "    .dataframe tbody tr th:only-of-type {\n",
       "        vertical-align: middle;\n",
       "    }\n",
       "\n",
       "    .dataframe tbody tr th {\n",
       "        vertical-align: top;\n",
       "    }\n",
       "\n",
       "    .dataframe thead th {\n",
       "        text-align: right;\n",
       "    }\n",
       "</style>\n",
       "<table border=\"1\" class=\"dataframe\">\n",
       "  <thead>\n",
       "    <tr style=\"text-align: right;\">\n",
       "      <th></th>\n",
       "      <th>ACT_NOW</th>\n",
       "      <th>ADDRESSES_ON_CD</th>\n",
       "      <th>ADULT_SITE</th>\n",
       "      <th>ADVERT_CODE</th>\n",
       "      <th>ADVERT_CODE2</th>\n",
       "      <th>ALL_CAPS_HEADER</th>\n",
       "      <th>ALL_CAP_PORN</th>\n",
       "      <th>ALL_NATURAL</th>\n",
       "      <th>AMATEUR_PORN</th>\n",
       "      <th>AMAZING</th>\n",
       "      <th>...</th>\n",
       "      <th>X_ENC_PRESENT</th>\n",
       "      <th>X_LIBRARY</th>\n",
       "      <th>X_LIST_UNSUBSCRIBE</th>\n",
       "      <th>X_MSMAIL_PRIORITY_HIGH</th>\n",
       "      <th>X_PRECEDENCE_REF</th>\n",
       "      <th>X_PRIORITY_HIGH</th>\n",
       "      <th>X_STORMPOST_TO</th>\n",
       "      <th>X_X_PRESENT</th>\n",
       "      <th>YOUR_INCOME</th>\n",
       "      <th>K</th>\n",
       "    </tr>\n",
       "  </thead>\n",
       "  <tbody>\n",
       "    <tr>\n",
       "      <th>0</th>\n",
       "      <td>0</td>\n",
       "      <td>0</td>\n",
       "      <td>0</td>\n",
       "      <td>0</td>\n",
       "      <td>0</td>\n",
       "      <td>0</td>\n",
       "      <td>0</td>\n",
       "      <td>0</td>\n",
       "      <td>0</td>\n",
       "      <td>0</td>\n",
       "      <td>...</td>\n",
       "      <td>0</td>\n",
       "      <td>0</td>\n",
       "      <td>0</td>\n",
       "      <td>0</td>\n",
       "      <td>0</td>\n",
       "      <td>0</td>\n",
       "      <td>0</td>\n",
       "      <td>0</td>\n",
       "      <td>0</td>\n",
       "      <td>yes</td>\n",
       "    </tr>\n",
       "    <tr>\n",
       "      <th>1</th>\n",
       "      <td>0</td>\n",
       "      <td>0</td>\n",
       "      <td>0</td>\n",
       "      <td>0</td>\n",
       "      <td>0</td>\n",
       "      <td>0</td>\n",
       "      <td>0</td>\n",
       "      <td>0</td>\n",
       "      <td>0</td>\n",
       "      <td>0</td>\n",
       "      <td>...</td>\n",
       "      <td>0</td>\n",
       "      <td>0</td>\n",
       "      <td>0</td>\n",
       "      <td>0</td>\n",
       "      <td>0</td>\n",
       "      <td>0</td>\n",
       "      <td>0</td>\n",
       "      <td>0</td>\n",
       "      <td>0</td>\n",
       "      <td>no</td>\n",
       "    </tr>\n",
       "    <tr>\n",
       "      <th>2</th>\n",
       "      <td>0</td>\n",
       "      <td>0</td>\n",
       "      <td>0</td>\n",
       "      <td>0</td>\n",
       "      <td>0</td>\n",
       "      <td>0</td>\n",
       "      <td>0</td>\n",
       "      <td>0</td>\n",
       "      <td>0</td>\n",
       "      <td>0</td>\n",
       "      <td>...</td>\n",
       "      <td>0</td>\n",
       "      <td>0</td>\n",
       "      <td>0</td>\n",
       "      <td>0</td>\n",
       "      <td>0</td>\n",
       "      <td>0</td>\n",
       "      <td>0</td>\n",
       "      <td>0</td>\n",
       "      <td>0</td>\n",
       "      <td>yes</td>\n",
       "    </tr>\n",
       "    <tr>\n",
       "      <th>3</th>\n",
       "      <td>0</td>\n",
       "      <td>0</td>\n",
       "      <td>0</td>\n",
       "      <td>0</td>\n",
       "      <td>0</td>\n",
       "      <td>0</td>\n",
       "      <td>0</td>\n",
       "      <td>0</td>\n",
       "      <td>0</td>\n",
       "      <td>0</td>\n",
       "      <td>...</td>\n",
       "      <td>0</td>\n",
       "      <td>0</td>\n",
       "      <td>0</td>\n",
       "      <td>0</td>\n",
       "      <td>0</td>\n",
       "      <td>0</td>\n",
       "      <td>0</td>\n",
       "      <td>0</td>\n",
       "      <td>0</td>\n",
       "      <td>no</td>\n",
       "    </tr>\n",
       "    <tr>\n",
       "      <th>4</th>\n",
       "      <td>0</td>\n",
       "      <td>0</td>\n",
       "      <td>0</td>\n",
       "      <td>0</td>\n",
       "      <td>0</td>\n",
       "      <td>0</td>\n",
       "      <td>0</td>\n",
       "      <td>0</td>\n",
       "      <td>0</td>\n",
       "      <td>0</td>\n",
       "      <td>...</td>\n",
       "      <td>0</td>\n",
       "      <td>0</td>\n",
       "      <td>0</td>\n",
       "      <td>0</td>\n",
       "      <td>0</td>\n",
       "      <td>0</td>\n",
       "      <td>0</td>\n",
       "      <td>0</td>\n",
       "      <td>0</td>\n",
       "      <td>yes</td>\n",
       "    </tr>\n",
       "  </tbody>\n",
       "</table>\n",
       "<p>5 rows × 463 columns</p>\n",
       "</div>"
      ],
      "text/plain": [
       "   ACT_NOW  ADDRESSES_ON_CD  ADULT_SITE  ADVERT_CODE  ADVERT_CODE2  \\\n",
       "0        0                0           0            0             0   \n",
       "1        0                0           0            0             0   \n",
       "2        0                0           0            0             0   \n",
       "3        0                0           0            0             0   \n",
       "4        0                0           0            0             0   \n",
       "\n",
       "   ALL_CAPS_HEADER  ALL_CAP_PORN  ALL_NATURAL  AMATEUR_PORN  AMAZING  ...  \\\n",
       "0                0             0            0             0        0  ...   \n",
       "1                0             0            0             0        0  ...   \n",
       "2                0             0            0             0        0  ...   \n",
       "3                0             0            0             0        0  ...   \n",
       "4                0             0            0             0        0  ...   \n",
       "\n",
       "   X_ENC_PRESENT  X_LIBRARY  X_LIST_UNSUBSCRIBE  X_MSMAIL_PRIORITY_HIGH  \\\n",
       "0              0          0                   0                       0   \n",
       "1              0          0                   0                       0   \n",
       "2              0          0                   0                       0   \n",
       "3              0          0                   0                       0   \n",
       "4              0          0                   0                       0   \n",
       "\n",
       "   X_PRECEDENCE_REF  X_PRIORITY_HIGH  X_STORMPOST_TO  X_X_PRESENT  \\\n",
       "0                 0                0               0            0   \n",
       "1                 0                0               0            0   \n",
       "2                 0                0               0            0   \n",
       "3                 0                0               0            0   \n",
       "4                 0                0               0            0   \n",
       "\n",
       "   YOUR_INCOME    K  \n",
       "0            0  yes  \n",
       "1            0   no  \n",
       "2            0  yes  \n",
       "3            0   no  \n",
       "4            0  yes  \n",
       "\n",
       "[5 rows x 463 columns]"
      ]
     },
     "execution_count": 343,
     "metadata": {},
     "output_type": "execute_result"
    }
   ],
   "source": [
    "datContent.head()"
   ]
  },
  {
   "cell_type": "code",
   "execution_count": 344,
   "metadata": {},
   "outputs": [
    {
     "data": {
      "text/plain": [
       "(4789, 463)"
      ]
     },
     "execution_count": 344,
     "metadata": {},
     "output_type": "execute_result"
    }
   ],
   "source": [
    "datContent.shape"
   ]
  },
  {
   "cell_type": "markdown",
   "metadata": {},
   "source": [
    "# Przegląd modeli"
   ]
  },
  {
   "cell_type": "code",
   "execution_count": 345,
   "metadata": {},
   "outputs": [],
   "source": [
    "from sklearn.metrics import accuracy_score, precision_score, recall_score, f1_score\n",
    "\n",
    "def countStats(_y_true, _y_pred):\n",
    "    accuracy = accuracy_score(_y_true, _y_pred, normalize=True)\n",
    "    precision = precision_score(_y_true, _y_pred, average='weighted')\n",
    "    recall = recall_score(_y_true, _y_pred, average='weighted')\n",
    "    fscore = f1_score(_y_true, _y_pred, average='weighted')\n",
    "    \n",
    "    return accuracy, precision, recall, fscore"
   ]
  },
  {
   "cell_type": "code",
   "execution_count": 346,
   "metadata": {},
   "outputs": [],
   "source": [
    "from sklearn.model_selection import KFold\n",
    "from sklearn import svm\n",
    "from sklearn.metrics import confusion_matrix\n",
    "\n",
    "def calculateStats(model, name, data):\n",
    "    \n",
    "    ConfusionMatrixY = []\n",
    "    ConfusionMatrixYpred = []\n",
    "\n",
    "    tAccuracy = 0\n",
    "    tPrecision = 0\n",
    "    tRecall = 0\n",
    "    tFScore = 0\n",
    "\n",
    "    for i in range(0, 5):\n",
    "        kf = KFold(n_splits = 2, shuffle = True)\n",
    "        result = next(kf.split(data), None)\n",
    "\n",
    "        train1 = data.iloc[result[0]]\n",
    "        test1 =  data.iloc[result[1]]\n",
    "        train2 = data.iloc[result[1]]\n",
    "        test2 =  data.iloc[result[0]]\n",
    "\n",
    "        # fold 1\n",
    "        clf = model\n",
    "        Xtrain = train1.drop('K', axis = 1)\n",
    "        Ytrain = train1.K\n",
    "        clf.fit(Xtrain, Ytrain)\n",
    "\n",
    "        Xtest = test1.drop('K', axis = 1)\n",
    "        Ytest = test1.K\n",
    "        YPred = clf.predict(Xtest)\n",
    "\n",
    "        ConfusionMatrixY = Ytest.tolist()\n",
    "        ConfusionMatrixYpred = YPred.tolist()\n",
    "\n",
    "        accuracy, precision, recall, fscore = countStats(Ytest, YPred)\n",
    "        tAccuracy += accuracy\n",
    "        tPrecision += precision\n",
    "        tRecall += recall\n",
    "        tFScore += fscore\n",
    "\n",
    "        #fold 2\n",
    "        clf = model\n",
    "        Xtrain = train1.drop('K', axis = 1)\n",
    "        Ytrain = train1.K\n",
    "        clf.fit(Xtrain, Ytrain)\n",
    "\n",
    "        Xtest = test1.drop('K', axis = 1)\n",
    "        Ytest = test1.K\n",
    "        YPred = clf.predict(Xtest)\n",
    "\n",
    "        ConfusionMatrixY = ConfusionMatrixY + Ytest.tolist()\n",
    "        ConfusionMatrixYpred = ConfusionMatrixYpred + YPred.tolist()\n",
    "\n",
    "        accuracy, precision, recall, fscore = countStats(Ytest, YPred)\n",
    "        tAccuracy += accuracy\n",
    "        tPrecision += precision\n",
    "        tRecall += recall\n",
    "        tFScore += fscore\n",
    "\n",
    "    cm = confusion_matrix(ConfusionMatrixY, ConfusionMatrixYpred)\n",
    "    return tAccuracy/10, tPrecision/10, tRecall/10, tFScore/10, cm"
   ]
  },
  {
   "cell_type": "code",
   "execution_count": 347,
   "metadata": {},
   "outputs": [],
   "source": [
    "def plot_cm(cm):\n",
    "    cm = cm.astype('float') / cm.sum(axis=1)[:, np.newaxis]\n",
    "    df_cm = pd.DataFrame(cm)\n",
    "    sns.heatmap(df_cm, cmap=\"Blues\", annot=True)\n",
    "    plt.ylabel('True Label')\n",
    "    plt.xlabel('Predicted Label')\n",
    "    plt.title('Macierz konfuzji')"
   ]
  },
  {
   "cell_type": "code",
   "execution_count": 348,
   "metadata": {},
   "outputs": [],
   "source": [
    "def do_the_thing(model, name, data):\n",
    "    accuracy, precision, recall, fscore, cm = calculateStats(model, name, data)\n",
    "    print(f'{name}:\\n\\nAccuracy: {accuracy}\\nPrecision: {precision}\\nRecall: {recall}\\nF-score: {fscore}')\n",
    "    print(f'\\nMacierz konfuzji:\\n\\n{cm}')\n",
    "    plot_cm(cm)"
   ]
  },
  {
   "cell_type": "code",
   "execution_count": 349,
   "metadata": {},
   "outputs": [
    {
     "name": "stdout",
     "output_type": "stream",
     "text": [
      "SVM:\n",
      "\n",
      "Accuracy: 0.9834655532359081\n",
      "Precision: 0.983666354038349\n",
      "Recall: 0.9834655532359081\n",
      "F-score: 0.9834134134231203\n",
      "\n",
      "Macierz konfuzji:\n",
      "\n",
      "[[2962   14]\n",
      " [  70 1744]]\n"
     ]
    },
    {
     "data": {
      "image/png": "[encoded data removed]",
      "text/plain": [
       "<Figure size 432x288 with 2 Axes>"
      ]
     },
     "metadata": {
      "needs_background": "light"
     },
     "output_type": "display_data"
    }
   ],
   "source": [
    "do_the_thing(model=svm.SVC(gamma='scale'), name='SVM', data=datContent)"
   ]
  },
  {
   "cell_type": "code",
   "execution_count": 350,
   "metadata": {},
   "outputs": [
    {
     "name": "stdout",
     "output_type": "stream",
     "text": [
      "KNN:\n",
      "\n",
      "Accuracy: 0.9173277661795407\n",
      "Precision: 0.9264639710723506\n",
      "Recall: 0.9173277661795407\n",
      "F-score: 0.9150303315563824\n",
      "\n",
      "Macierz konfuzji:\n",
      "\n",
      "[[3078    2]\n",
      " [ 350 1360]]\n"
     ]
    },
    {
     "data": {
      "image/png": "[encoded data removed]",
      "text/plain": [
       "<Figure size 432x288 with 2 Axes>"
      ]
     },
     "metadata": {
      "needs_background": "light"
     },
     "output_type": "display_data"
    }
   ],
   "source": [
    "from sklearn.neighbors import KNeighborsClassifier\n",
    "\n",
    "do_the_thing(KNeighborsClassifier(metric='euclidean'), name='KNN', data=datContent)"
   ]
  },
  {
   "cell_type": "code",
   "execution_count": 351,
   "metadata": {},
   "outputs": [
    {
     "name": "stdout",
     "output_type": "stream",
     "text": [
      "Decision Tree:\n",
      "\n",
      "Accuracy: 0.9741544885177452\n",
      "Precision: 0.9741705725315057\n",
      "Recall: 0.9741544885177452\n",
      "F-score: 0.9741449318963543\n",
      "\n",
      "Macierz konfuzji:\n",
      "\n",
      "[[2858   56]\n",
      " [  62 1814]]\n"
     ]
    },
    {
     "data": {
      "image/png": "[encoded data removed]",
      "text/plain": [
       "<Figure size 432x288 with 2 Axes>"
      ]
     },
     "metadata": {
      "needs_background": "light"
     },
     "output_type": "display_data"
    }
   ],
   "source": [
    "from sklearn.tree import DecisionTreeClassifier\n",
    "\n",
    "do_the_thing(DecisionTreeClassifier(), name='Decision Tree', data=datContent)"
   ]
  },
  {
   "cell_type": "code",
   "execution_count": 352,
   "metadata": {},
   "outputs": [
    {
     "name": "stdout",
     "output_type": "stream",
     "text": [
      "Naive Bayes:\n",
      "\n",
      "Accuracy: 0.9794572025052192\n",
      "Precision: 0.979459842372205\n",
      "Recall: 0.9794572025052192\n",
      "F-score: 0.9794533721435787\n",
      "\n",
      "Macierz konfuzji:\n",
      "\n",
      "[[2962   38]\n",
      " [  54 1736]]\n"
     ]
    },
    {
     "data": {
      "image/png": "[encoded data removed]",
      "text/plain": [
       "<Figure size 432x288 with 2 Axes>"
      ]
     },
     "metadata": {
      "needs_background": "light"
     },
     "output_type": "display_data"
    }
   ],
   "source": [
    "from sklearn.naive_bayes import MultinomialNB\n",
    "\n",
    "do_the_thing(MultinomialNB(), name='Naive Bayes', data=datContent)"
   ]
  },
  {
   "cell_type": "code",
   "execution_count": 353,
   "metadata": {},
   "outputs": [
    {
     "name": "stdout",
     "output_type": "stream",
     "text": [
      "Multi-layer Perceptron:\n",
      "\n",
      "Accuracy: 0.9795824634655533\n",
      "Precision: 0.9796027113280813\n",
      "Recall: 0.9795824634655533\n",
      "F-score: 0.9795590372358246\n",
      "\n",
      "Macierz konfuzji:\n",
      "\n",
      "[[2911   27]\n",
      " [  58 1794]]\n"
     ]
    },
    {
     "data": {
      "image/png": "[encoded data removed]",
      "text/plain": [
       "<Figure size 432x288 with 2 Axes>"
      ]
     },
     "metadata": {
      "needs_background": "light"
     },
     "output_type": "display_data"
    }
   ],
   "source": [
    "from sklearn.neural_network import MLPClassifier\n",
    "\n",
    "do_the_thing(MLPClassifier(), name='Multi-layer Perceptron', data=datContent)"
   ]
  },
  {
   "cell_type": "markdown",
   "metadata": {},
   "source": [
    "# Najlepsze do tej pory"
   ]
  },
  {
   "cell_type": "code",
   "execution_count": 354,
   "metadata": {},
   "outputs": [
    {
     "name": "stderr",
     "output_type": "stream",
     "text": [
      "d:\\programs\\python37\\lib\\site-packages\\sklearn\\neural_network\\multilayer_perceptron.py:566: ConvergenceWarning: Stochastic Optimizer: Maximum iterations (200) reached and the optimization hasn't converged yet.\n",
      "  % self.max_iter, ConvergenceWarning)\n"
     ]
    }
   ],
   "source": [
    "models = {\n",
    "    'SVM': svm.SVC(gamma='scale'),\n",
    "    'KNN': KNeighborsClassifier(metric='euclidean'),\n",
    "    'Decision Tree': DecisionTreeClassifier(),\n",
    "    'Naive Bayes': MultinomialNB(),\n",
    "    'Multi-layer Perceptron': MLPClassifier()\n",
    "}\n",
    "\n",
    "all_fscores = []\n",
    "\n",
    "for model in models:\n",
    "    accuracy, precision, recall, fscore, cm = calculateStats(models[model], model, datContent)\n",
    "    all_fscores.append(fscore)"
   ]
  },
  {
   "cell_type": "code",
   "execution_count": 355,
   "metadata": {},
   "outputs": [
    {
     "data": {
      "text/plain": [
       "Text(0.5, 1.0, 'F-sscore klasyfikatorów')"
      ]
     },
     "execution_count": 355,
     "metadata": {},
     "output_type": "execute_result"
    },
    {
     "data": {
      "image/png": "[encoded data removed]",
      "text/plain": [
       "<Figure size 432x288 with 1 Axes>"
      ]
     },
     "metadata": {
      "needs_background": "light"
     },
     "output_type": "display_data"
    }
   ],
   "source": [
    "fig = plt.figure()\n",
    "\n",
    "X = list(models.keys())\n",
    "Y = all_fscores\n",
    "\n",
    "plt.barh(X, Y, alpha=0.5)\n",
    "plt.axvline(x=.97, color='r')\n",
    "plt.xlabel('Wartość f-score')\n",
    "plt.title('F-sscore klasyfikatorów')"
   ]
  },
  {
   "cell_type": "markdown",
   "metadata": {},
   "source": [
    "**Do dalszej części przechodzą**:\n",
    "\n",
    " * Naive Bayes\n",
    " * Multi-layer Perceptron\n",
    " * SVM"
   ]
  },
  {
   "cell_type": "markdown",
   "metadata": {},
   "source": [
    "# Hiperparametry"
   ]
  },
  {
   "cell_type": "code",
   "execution_count": 356,
   "metadata": {},
   "outputs": [],
   "source": [
    "models = {\n",
    "    'SVM': svm.SVC(gamma='scale'),\n",
    "    'Naive Bayes': MultinomialNB(),\n",
    "    'Multi-layer Perceptron': MLPClassifier()\n",
    "}"
   ]
  },
  {
   "cell_type": "code",
   "execution_count": 357,
   "metadata": {},
   "outputs": [
    {
     "data": {
      "text/plain": [
       "(0.95, 1.0)"
      ]
     },
     "execution_count": 357,
     "metadata": {},
     "output_type": "execute_result"
    },
    {
     "data": {
      "image/png": "[encoded data removed]",
      "text/plain": [
       "<Figure size 432x288 with 1 Axes>"
      ]
     },
     "metadata": {
      "needs_background": "light"
     },
     "output_type": "display_data"
    }
   ],
   "source": [
    "all_fscores = []\n",
    "names = []\n",
    "alphas = [0.01, 0.1, 0.2, 0.3, 0.4, 0.5, 0.7, 0.9, 1.0]\n",
    "\n",
    "for alpha_v in alphas:\n",
    "    name = 'Naive Bayes(alpha= ' + str(alpha_v) + ')'\n",
    "    accuracy, precision, recall, fscore, cm = calculateStats(MultinomialNB(alpha=alpha_v), name, datContent)\n",
    "    all_fscores.append(fscore)\n",
    "    names.append(name)\n",
    "\n",
    "fig = plt.figure()\n",
    "\n",
    "X = names\n",
    "Y = all_fscores\n",
    "\n",
    "plt.barh(X, Y, alpha=0.5)\n",
    "plt.axvline(x=.97, color='r')\n",
    "plt.xlabel('Wartość f-score')\n",
    "plt.title('F-sscore klasyfikatorów')\n",
    "plt.xlim(0.95, 1.0)"
   ]
  },
  {
   "cell_type": "code",
   "execution_count": 358,
   "metadata": {},
   "outputs": [
    {
     "name": "stdout",
     "output_type": "stream",
     "text": [
      "Naive Bayes(alpha=0.9):\n",
      "\n",
      "Accuracy: 0.9807933194154488\n",
      "Precision: 0.9808200980944571\n",
      "Recall: 0.9807933194154488\n",
      "F-score: 0.9807923909052005\n",
      "\n",
      "Macierz konfuzji:\n",
      "\n",
      "[[2930   42]\n",
      " [  36 1782]]\n"
     ]
    },
    {
     "data": {
      "image/png": "[encoded data removed]",
      "text/plain": [
       "<Figure size 432x288 with 2 Axes>"
      ]
     },
     "metadata": {
      "needs_background": "light"
     },
     "output_type": "display_data"
    }
   ],
   "source": [
    "do_the_thing(MultinomialNB(alpha=0.5), name='Naive Bayes(alpha=0.9)', data=datContent)"
   ]
  },
  {
   "cell_type": "code",
   "execution_count": 360,
   "metadata": {},
   "outputs": [
    {
     "data": {
      "text/plain": [
       "(0.95, 1.0)"
      ]
     },
     "execution_count": 360,
     "metadata": {},
     "output_type": "execute_result"
    },
    {
     "data": {
      "image/png": "[encoded data removed]",
      "text/plain": [
       "<Figure size 432x288 with 1 Axes>"
      ]
     },
     "metadata": {
      "needs_background": "light"
     },
     "output_type": "display_data"
    }
   ],
   "source": [
    "all_fscores = []\n",
    "names = []\n",
    "fit_priors = [False, True]\n",
    "\n",
    "for fit_prior in fit_priors:\n",
    "    name = 'Naive Bayes(alpha=0.5, fit_prior=' + str(fit_prior) + ')'\n",
    "    accuracy, precision, recall, fscore, cm = calculateStats(MultinomialNB(alpha=0.5, fit_prior=fit_prior), name, datContent)\n",
    "    all_fscores.append(fscore)\n",
    "    names.append(name)\n",
    "\n",
    "fig = plt.figure()\n",
    "\n",
    "X = names\n",
    "Y = all_fscores\n",
    "\n",
    "plt.barh(X, Y, alpha=0.5)\n",
    "plt.axvline(x=.97, color='r')\n",
    "plt.xlabel('Wartość f-score')\n",
    "plt.title('F-sscore klasyfikatorów')\n",
    "plt.xlim(0.95, 1.0)"
   ]
  },
  {
   "cell_type": "code",
   "execution_count": 364,
   "metadata": {},
   "outputs": [
    {
     "name": "stdout",
     "output_type": "stream",
     "text": [
      "Naive Bayes(alpha=0.5, fit_prior=True):\n",
      "\n",
      "Accuracy: 0.9786221294363256\n",
      "Precision: 0.978655604101332\n",
      "Recall: 0.9786221294363256\n",
      "F-score: 0.9786314502541\n",
      "\n",
      "Macierz konfuzji:\n",
      "\n",
      "[[2956   46]\n",
      " [  44 1744]]\n"
     ]
    },
    {
     "data": {
      "image/png": "[encoded data removed]",
      "text/plain": [
       "<Figure size 432x288 with 2 Axes>"
      ]
     },
     "metadata": {
      "needs_background": "light"
     },
     "output_type": "display_data"
    }
   ],
   "source": [
    "do_the_thing(MultinomialNB(alpha=0.5, fit_prior=True), name='Naive Bayes(alpha=0.5, fit_prior=True)', data=datContent)"
   ]
  },
  {
   "cell_type": "code",
   "execution_count": 365,
   "metadata": {},
   "outputs": [
    {
     "data": {
      "text/plain": [
       "(0.95, 1.0)"
      ]
     },
     "execution_count": 365,
     "metadata": {},
     "output_type": "execute_result"
    },
    {
     "data": {
      "image/png": "[encoded data removed]",
      "text/plain": [
       "<Figure size 432x288 with 1 Axes>"
      ]
     },
     "metadata": {
      "needs_background": "light"
     },
     "output_type": "display_data"
    }
   ],
   "source": [
    "all_fscores = []\n",
    "names = []\n",
    "kernels = ['linear', 'poly', 'rbf', 'sigmoid']\n",
    "\n",
    "for kernel in kernels:\n",
    "    name = 'SVC(kernel=' + str(kernel) + ')'\n",
    "    accuracy, precision, recall, fscore, cm = calculateStats(svm.SVC(kernel=kernel, gamma='scale'), name, datContent)\n",
    "    all_fscores.append(fscore)\n",
    "    names.append(name)\n",
    "\n",
    "fig = plt.figure()\n",
    "\n",
    "X = names\n",
    "Y = all_fscores\n",
    "\n",
    "plt.barh(X, Y, alpha=0.5)\n",
    "plt.axvline(x=.97, color='r')\n",
    "plt.xlabel('Wartość f-score')\n",
    "plt.title('F-sscore klasyfikatorów')\n",
    "plt.xlim(0.95, 1.0)"
   ]
  },
  {
   "cell_type": "code",
   "execution_count": 366,
   "metadata": {},
   "outputs": [
    {
     "name": "stdout",
     "output_type": "stream",
     "text": [
      "SVC(kernel=linear):\n",
      "\n",
      "Accuracy: 0.9810438413361169\n",
      "Precision: 0.9811465746644099\n",
      "Recall: 0.9810438413361169\n",
      "F-score: 0.9810031879492771\n",
      "\n",
      "Macierz konfuzji:\n",
      "\n",
      "[[2858   12]\n",
      " [  80 1840]]\n"
     ]
    },
    {
     "data": {
      "image/png": "[encoded data removed]",
      "text/plain": [
       "<Figure size 432x288 with 2 Axes>"
      ]
     },
     "metadata": {
      "needs_background": "light"
     },
     "output_type": "display_data"
    }
   ],
   "source": [
    "do_the_thing(svm.SVC(kernel='linear', gamma='scale'), name='SVC(kernel=linear)', data=datContent)"
   ]
  },
  {
   "cell_type": "code",
   "execution_count": 367,
   "metadata": {},
   "outputs": [
    {
     "name": "stdout",
     "output_type": "stream",
     "text": [
      "SVC(kernel=rbf):\n",
      "\n",
      "Accuracy: 0.982964509394572\n",
      "Precision: 0.9830991109110923\n",
      "Recall: 0.982964509394572\n",
      "F-score: 0.9829196202504837\n",
      "\n",
      "Macierz konfuzji:\n",
      "\n",
      "[[2890   24]\n",
      " [  62 1814]]\n"
     ]
    },
    {
     "data": {
      "image/png": "[encoded data removed]",
      "text/plain": [
       "<Figure size 432x288 with 2 Axes>"
      ]
     },
     "metadata": {
      "needs_background": "light"
     },
     "output_type": "display_data"
    }
   ],
   "source": [
    "do_the_thing(svm.SVC(kernel='rbf', gamma='scale'), name='SVC(kernel=rbf)', data=datContent)"
   ]
  },
  {
   "cell_type": "code",
   "execution_count": 368,
   "metadata": {},
   "outputs": [
    {
     "data": {
      "text/plain": [
       "(0.95, 1.0)"
      ]
     },
     "execution_count": 368,
     "metadata": {},
     "output_type": "execute_result"
    },
    {
     "data": {
      "image/png": "[encoded data removed]",
      "text/plain": [
       "<Figure size 432x288 with 1 Axes>"
      ]
     },
     "metadata": {
      "needs_background": "light"
     },
     "output_type": "display_data"
    }
   ],
   "source": [
    "all_fscores = []\n",
    "names = []\n",
    "kernels = ['linear', 'rbf']\n",
    "shrinkings = [True, False]\n",
    "probabilities = [True, False]\n",
    "\n",
    "\n",
    "for kernel in kernels:\n",
    "    for shrinking in shrinkings:\n",
    "        for probability in probabilities:\n",
    "            name = 'SVC(kernel=' + str(kernel) + ', shrinking=' + str(shrinking) + ', probability= ' + str(probability) + ')'\n",
    "            accuracy, precision, recall, fscore, cm = calculateStats(svm.SVC(kernel=kernel, gamma='scale', shrinking=shrinking, probability=probability), name, datContent)\n",
    "            all_fscores.append(fscore)\n",
    "            names.append(name)\n",
    "\n",
    "fig = plt.figure()\n",
    "\n",
    "X = names\n",
    "Y = all_fscores\n",
    "\n",
    "plt.barh(X, Y, alpha=0.5)\n",
    "plt.axvline(x=.97, color='r')\n",
    "plt.xlabel('Wartość f-score')\n",
    "plt.title('F-sscore klasyfikatorów')\n",
    "plt.xlim(0.95, 1.0)"
   ]
  },
  {
   "cell_type": "code",
   "execution_count": 369,
   "metadata": {},
   "outputs": [
    {
     "name": "stdout",
     "output_type": "stream",
     "text": [
      "SVC(kernel=rbf, shrinking=False, probability= False):\n",
      "\n",
      "Accuracy: 0.9838830897703549\n",
      "Precision: 0.9840331433599092\n",
      "Recall: 0.9838830897703549\n",
      "F-score: 0.9838390619544916\n",
      "\n",
      "Macierz konfuzji:\n",
      "\n",
      "[[2922   12]\n",
      " [  58 1798]]\n"
     ]
    },
    {
     "data": {
      "image/png": "[encoded data removed]",
      "text/plain": [
       "<Figure size 432x288 with 2 Axes>"
      ]
     },
     "metadata": {
      "needs_background": "light"
     },
     "output_type": "display_data"
    }
   ],
   "source": [
    "do_the_thing(svm.SVC(kernel='rbf', gamma='scale', shrinking=True, probability= False), name='SVC(kernel=rbf, shrinking=False, probability= False)', data=datContent)"
   ]
  },
  {
   "cell_type": "code",
   "execution_count": 370,
   "metadata": {},
   "outputs": [
    {
     "name": "stderr",
     "output_type": "stream",
     "text": [
      "d:\\programs\\python37\\lib\\site-packages\\sklearn\\neural_network\\multilayer_perceptron.py:566: ConvergenceWarning: Stochastic Optimizer: Maximum iterations (200) reached and the optimization hasn't converged yet.\n",
      "  % self.max_iter, ConvergenceWarning)\n",
      "d:\\programs\\python37\\lib\\site-packages\\sklearn\\neural_network\\multilayer_perceptron.py:566: ConvergenceWarning: Stochastic Optimizer: Maximum iterations (200) reached and the optimization hasn't converged yet.\n",
      "  % self.max_iter, ConvergenceWarning)\n",
      "d:\\programs\\python37\\lib\\site-packages\\sklearn\\neural_network\\multilayer_perceptron.py:566: ConvergenceWarning: Stochastic Optimizer: Maximum iterations (200) reached and the optimization hasn't converged yet.\n",
      "  % self.max_iter, ConvergenceWarning)\n",
      "d:\\programs\\python37\\lib\\site-packages\\sklearn\\neural_network\\multilayer_perceptron.py:566: ConvergenceWarning: Stochastic Optimizer: Maximum iterations (200) reached and the optimization hasn't converged yet.\n",
      "  % self.max_iter, ConvergenceWarning)\n",
      "d:\\programs\\python37\\lib\\site-packages\\sklearn\\neural_network\\multilayer_perceptron.py:566: ConvergenceWarning: Stochastic Optimizer: Maximum iterations (200) reached and the optimization hasn't converged yet.\n",
      "  % self.max_iter, ConvergenceWarning)\n",
      "d:\\programs\\python37\\lib\\site-packages\\sklearn\\neural_network\\multilayer_perceptron.py:566: ConvergenceWarning: Stochastic Optimizer: Maximum iterations (200) reached and the optimization hasn't converged yet.\n",
      "  % self.max_iter, ConvergenceWarning)\n",
      "d:\\programs\\python37\\lib\\site-packages\\sklearn\\neural_network\\multilayer_perceptron.py:566: ConvergenceWarning: Stochastic Optimizer: Maximum iterations (200) reached and the optimization hasn't converged yet.\n",
      "  % self.max_iter, ConvergenceWarning)\n",
      "d:\\programs\\python37\\lib\\site-packages\\sklearn\\neural_network\\multilayer_perceptron.py:566: ConvergenceWarning: Stochastic Optimizer: Maximum iterations (200) reached and the optimization hasn't converged yet.\n",
      "  % self.max_iter, ConvergenceWarning)\n",
      "d:\\programs\\python37\\lib\\site-packages\\sklearn\\neural_network\\multilayer_perceptron.py:566: ConvergenceWarning: Stochastic Optimizer: Maximum iterations (200) reached and the optimization hasn't converged yet.\n",
      "  % self.max_iter, ConvergenceWarning)\n",
      "d:\\programs\\python37\\lib\\site-packages\\sklearn\\neural_network\\multilayer_perceptron.py:566: ConvergenceWarning: Stochastic Optimizer: Maximum iterations (200) reached and the optimization hasn't converged yet.\n",
      "  % self.max_iter, ConvergenceWarning)\n",
      "d:\\programs\\python37\\lib\\site-packages\\sklearn\\neural_network\\multilayer_perceptron.py:566: ConvergenceWarning: Stochastic Optimizer: Maximum iterations (200) reached and the optimization hasn't converged yet.\n",
      "  % self.max_iter, ConvergenceWarning)\n",
      "d:\\programs\\python37\\lib\\site-packages\\sklearn\\neural_network\\multilayer_perceptron.py:566: ConvergenceWarning: Stochastic Optimizer: Maximum iterations (200) reached and the optimization hasn't converged yet.\n",
      "  % self.max_iter, ConvergenceWarning)\n",
      "d:\\programs\\python37\\lib\\site-packages\\sklearn\\neural_network\\multilayer_perceptron.py:566: ConvergenceWarning: Stochastic Optimizer: Maximum iterations (200) reached and the optimization hasn't converged yet.\n",
      "  % self.max_iter, ConvergenceWarning)\n",
      "d:\\programs\\python37\\lib\\site-packages\\sklearn\\neural_network\\multilayer_perceptron.py:566: ConvergenceWarning: Stochastic Optimizer: Maximum iterations (200) reached and the optimization hasn't converged yet.\n",
      "  % self.max_iter, ConvergenceWarning)\n",
      "d:\\programs\\python37\\lib\\site-packages\\sklearn\\neural_network\\multilayer_perceptron.py:566: ConvergenceWarning: Stochastic Optimizer: Maximum iterations (200) reached and the optimization hasn't converged yet.\n",
      "  % self.max_iter, ConvergenceWarning)\n",
      "d:\\programs\\python37\\lib\\site-packages\\sklearn\\neural_network\\multilayer_perceptron.py:566: ConvergenceWarning: Stochastic Optimizer: Maximum iterations (200) reached and the optimization hasn't converged yet.\n",
      "  % self.max_iter, ConvergenceWarning)\n",
      "d:\\programs\\python37\\lib\\site-packages\\sklearn\\neural_network\\multilayer_perceptron.py:566: ConvergenceWarning: Stochastic Optimizer: Maximum iterations (200) reached and the optimization hasn't converged yet.\n",
      "  % self.max_iter, ConvergenceWarning)\n",
      "d:\\programs\\python37\\lib\\site-packages\\sklearn\\neural_network\\multilayer_perceptron.py:566: ConvergenceWarning: Stochastic Optimizer: Maximum iterations (200) reached and the optimization hasn't converged yet.\n",
      "  % self.max_iter, ConvergenceWarning)\n",
      "d:\\programs\\python37\\lib\\site-packages\\sklearn\\neural_network\\multilayer_perceptron.py:566: ConvergenceWarning: Stochastic Optimizer: Maximum iterations (200) reached and the optimization hasn't converged yet.\n",
      "  % self.max_iter, ConvergenceWarning)\n",
      "d:\\programs\\python37\\lib\\site-packages\\sklearn\\neural_network\\multilayer_perceptron.py:566: ConvergenceWarning: Stochastic Optimizer: Maximum iterations (200) reached and the optimization hasn't converged yet.\n",
      "  % self.max_iter, ConvergenceWarning)\n",
      "d:\\programs\\python37\\lib\\site-packages\\sklearn\\neural_network\\multilayer_perceptron.py:566: ConvergenceWarning: Stochastic Optimizer: Maximum iterations (200) reached and the optimization hasn't converged yet.\n",
      "  % self.max_iter, ConvergenceWarning)\n",
      "d:\\programs\\python37\\lib\\site-packages\\sklearn\\neural_network\\multilayer_perceptron.py:566: ConvergenceWarning: Stochastic Optimizer: Maximum iterations (200) reached and the optimization hasn't converged yet.\n",
      "  % self.max_iter, ConvergenceWarning)\n",
      "d:\\programs\\python37\\lib\\site-packages\\sklearn\\neural_network\\multilayer_perceptron.py:566: ConvergenceWarning: Stochastic Optimizer: Maximum iterations (200) reached and the optimization hasn't converged yet.\n",
      "  % self.max_iter, ConvergenceWarning)\n",
      "d:\\programs\\python37\\lib\\site-packages\\sklearn\\neural_network\\multilayer_perceptron.py:566: ConvergenceWarning: Stochastic Optimizer: Maximum iterations (200) reached and the optimization hasn't converged yet.\n",
      "  % self.max_iter, ConvergenceWarning)\n",
      "d:\\programs\\python37\\lib\\site-packages\\sklearn\\neural_network\\multilayer_perceptron.py:566: ConvergenceWarning: Stochastic Optimizer: Maximum iterations (200) reached and the optimization hasn't converged yet.\n",
      "  % self.max_iter, ConvergenceWarning)\n",
      "d:\\programs\\python37\\lib\\site-packages\\sklearn\\neural_network\\multilayer_perceptron.py:566: ConvergenceWarning: Stochastic Optimizer: Maximum iterations (200) reached and the optimization hasn't converged yet.\n",
      "  % self.max_iter, ConvergenceWarning)\n",
      "d:\\programs\\python37\\lib\\site-packages\\sklearn\\neural_network\\multilayer_perceptron.py:566: ConvergenceWarning: Stochastic Optimizer: Maximum iterations (200) reached and the optimization hasn't converged yet.\n",
      "  % self.max_iter, ConvergenceWarning)\n",
      "d:\\programs\\python37\\lib\\site-packages\\sklearn\\neural_network\\multilayer_perceptron.py:566: ConvergenceWarning: Stochastic Optimizer: Maximum iterations (200) reached and the optimization hasn't converged yet.\n",
      "  % self.max_iter, ConvergenceWarning)\n",
      "d:\\programs\\python37\\lib\\site-packages\\sklearn\\neural_network\\multilayer_perceptron.py:566: ConvergenceWarning: Stochastic Optimizer: Maximum iterations (200) reached and the optimization hasn't converged yet.\n",
      "  % self.max_iter, ConvergenceWarning)\n",
      "d:\\programs\\python37\\lib\\site-packages\\sklearn\\neural_network\\multilayer_perceptron.py:566: ConvergenceWarning: Stochastic Optimizer: Maximum iterations (200) reached and the optimization hasn't converged yet.\n",
      "  % self.max_iter, ConvergenceWarning)\n",
      "d:\\programs\\python37\\lib\\site-packages\\sklearn\\neural_network\\multilayer_perceptron.py:566: ConvergenceWarning: Stochastic Optimizer: Maximum iterations (200) reached and the optimization hasn't converged yet.\n",
      "  % self.max_iter, ConvergenceWarning)\n",
      "d:\\programs\\python37\\lib\\site-packages\\sklearn\\neural_network\\multilayer_perceptron.py:566: ConvergenceWarning: Stochastic Optimizer: Maximum iterations (200) reached and the optimization hasn't converged yet.\n",
      "  % self.max_iter, ConvergenceWarning)\n",
      "d:\\programs\\python37\\lib\\site-packages\\sklearn\\metrics\\classification.py:1437: UndefinedMetricWarning: Precision is ill-defined and being set to 0.0 in labels with no predicted samples.\n",
      "  'precision', 'predicted', average, warn_for)\n",
      "d:\\programs\\python37\\lib\\site-packages\\sklearn\\metrics\\classification.py:1437: UndefinedMetricWarning: F-score is ill-defined and being set to 0.0 in labels with no predicted samples.\n",
      "  'precision', 'predicted', average, warn_for)\n"
     ]
    },
    {
     "name": "stderr",
     "output_type": "stream",
     "text": [
      "d:\\programs\\python37\\lib\\site-packages\\sklearn\\metrics\\classification.py:1437: UndefinedMetricWarning: Precision is ill-defined and being set to 0.0 in labels with no predicted samples.\n",
      "  'precision', 'predicted', average, warn_for)\n",
      "d:\\programs\\python37\\lib\\site-packages\\sklearn\\metrics\\classification.py:1437: UndefinedMetricWarning: F-score is ill-defined and being set to 0.0 in labels with no predicted samples.\n",
      "  'precision', 'predicted', average, warn_for)\n",
      "d:\\programs\\python37\\lib\\site-packages\\sklearn\\metrics\\classification.py:1437: UndefinedMetricWarning: Precision is ill-defined and being set to 0.0 in labels with no predicted samples.\n",
      "  'precision', 'predicted', average, warn_for)\n",
      "d:\\programs\\python37\\lib\\site-packages\\sklearn\\metrics\\classification.py:1437: UndefinedMetricWarning: F-score is ill-defined and being set to 0.0 in labels with no predicted samples.\n",
      "  'precision', 'predicted', average, warn_for)\n",
      "d:\\programs\\python37\\lib\\site-packages\\sklearn\\metrics\\classification.py:1437: UndefinedMetricWarning: Precision is ill-defined and being set to 0.0 in labels with no predicted samples.\n",
      "  'precision', 'predicted', average, warn_for)\n",
      "d:\\programs\\python37\\lib\\site-packages\\sklearn\\metrics\\classification.py:1437: UndefinedMetricWarning: F-score is ill-defined and being set to 0.0 in labels with no predicted samples.\n",
      "  'precision', 'predicted', average, warn_for)\n",
      "d:\\programs\\python37\\lib\\site-packages\\sklearn\\metrics\\classification.py:1437: UndefinedMetricWarning: Precision is ill-defined and being set to 0.0 in labels with no predicted samples.\n",
      "  'precision', 'predicted', average, warn_for)\n",
      "d:\\programs\\python37\\lib\\site-packages\\sklearn\\metrics\\classification.py:1437: UndefinedMetricWarning: F-score is ill-defined and being set to 0.0 in labels with no predicted samples.\n",
      "  'precision', 'predicted', average, warn_for)\n",
      "d:\\programs\\python37\\lib\\site-packages\\sklearn\\metrics\\classification.py:1437: UndefinedMetricWarning: Precision is ill-defined and being set to 0.0 in labels with no predicted samples.\n",
      "  'precision', 'predicted', average, warn_for)\n",
      "d:\\programs\\python37\\lib\\site-packages\\sklearn\\metrics\\classification.py:1437: UndefinedMetricWarning: F-score is ill-defined and being set to 0.0 in labels with no predicted samples.\n",
      "  'precision', 'predicted', average, warn_for)\n",
      "d:\\programs\\python37\\lib\\site-packages\\sklearn\\metrics\\classification.py:1437: UndefinedMetricWarning: Precision is ill-defined and being set to 0.0 in labels with no predicted samples.\n",
      "  'precision', 'predicted', average, warn_for)\n",
      "d:\\programs\\python37\\lib\\site-packages\\sklearn\\metrics\\classification.py:1437: UndefinedMetricWarning: F-score is ill-defined and being set to 0.0 in labels with no predicted samples.\n",
      "  'precision', 'predicted', average, warn_for)\n",
      "d:\\programs\\python37\\lib\\site-packages\\sklearn\\metrics\\classification.py:1437: UndefinedMetricWarning: Precision is ill-defined and being set to 0.0 in labels with no predicted samples.\n",
      "  'precision', 'predicted', average, warn_for)\n",
      "d:\\programs\\python37\\lib\\site-packages\\sklearn\\metrics\\classification.py:1437: UndefinedMetricWarning: F-score is ill-defined and being set to 0.0 in labels with no predicted samples.\n",
      "  'precision', 'predicted', average, warn_for)\n",
      "d:\\programs\\python37\\lib\\site-packages\\sklearn\\metrics\\classification.py:1437: UndefinedMetricWarning: Precision is ill-defined and being set to 0.0 in labels with no predicted samples.\n",
      "  'precision', 'predicted', average, warn_for)\n",
      "d:\\programs\\python37\\lib\\site-packages\\sklearn\\metrics\\classification.py:1437: UndefinedMetricWarning: F-score is ill-defined and being set to 0.0 in labels with no predicted samples.\n",
      "  'precision', 'predicted', average, warn_for)\n",
      "d:\\programs\\python37\\lib\\site-packages\\sklearn\\metrics\\classification.py:1437: UndefinedMetricWarning: Precision is ill-defined and being set to 0.0 in labels with no predicted samples.\n",
      "  'precision', 'predicted', average, warn_for)\n",
      "d:\\programs\\python37\\lib\\site-packages\\sklearn\\metrics\\classification.py:1437: UndefinedMetricWarning: F-score is ill-defined and being set to 0.0 in labels with no predicted samples.\n",
      "  'precision', 'predicted', average, warn_for)\n",
      "d:\\programs\\python37\\lib\\site-packages\\sklearn\\neural_network\\multilayer_perceptron.py:566: ConvergenceWarning: Stochastic Optimizer: Maximum iterations (200) reached and the optimization hasn't converged yet.\n",
      "  % self.max_iter, ConvergenceWarning)\n",
      "d:\\programs\\python37\\lib\\site-packages\\sklearn\\neural_network\\multilayer_perceptron.py:566: ConvergenceWarning: Stochastic Optimizer: Maximum iterations (200) reached and the optimization hasn't converged yet.\n",
      "  % self.max_iter, ConvergenceWarning)\n",
      "d:\\programs\\python37\\lib\\site-packages\\sklearn\\neural_network\\multilayer_perceptron.py:566: ConvergenceWarning: Stochastic Optimizer: Maximum iterations (200) reached and the optimization hasn't converged yet.\n",
      "  % self.max_iter, ConvergenceWarning)\n",
      "d:\\programs\\python37\\lib\\site-packages\\sklearn\\neural_network\\multilayer_perceptron.py:566: ConvergenceWarning: Stochastic Optimizer: Maximum iterations (200) reached and the optimization hasn't converged yet.\n",
      "  % self.max_iter, ConvergenceWarning)\n",
      "d:\\programs\\python37\\lib\\site-packages\\sklearn\\neural_network\\multilayer_perceptron.py:566: ConvergenceWarning: Stochastic Optimizer: Maximum iterations (200) reached and the optimization hasn't converged yet.\n",
      "  % self.max_iter, ConvergenceWarning)\n",
      "d:\\programs\\python37\\lib\\site-packages\\sklearn\\neural_network\\multilayer_perceptron.py:566: ConvergenceWarning: Stochastic Optimizer: Maximum iterations (200) reached and the optimization hasn't converged yet.\n",
      "  % self.max_iter, ConvergenceWarning)\n",
      "d:\\programs\\python37\\lib\\site-packages\\sklearn\\neural_network\\multilayer_perceptron.py:566: ConvergenceWarning: Stochastic Optimizer: Maximum iterations (200) reached and the optimization hasn't converged yet.\n",
      "  % self.max_iter, ConvergenceWarning)\n",
      "d:\\programs\\python37\\lib\\site-packages\\sklearn\\neural_network\\multilayer_perceptron.py:566: ConvergenceWarning: Stochastic Optimizer: Maximum iterations (200) reached and the optimization hasn't converged yet.\n",
      "  % self.max_iter, ConvergenceWarning)\n",
      "d:\\programs\\python37\\lib\\site-packages\\sklearn\\neural_network\\multilayer_perceptron.py:566: ConvergenceWarning: Stochastic Optimizer: Maximum iterations (200) reached and the optimization hasn't converged yet.\n",
      "  % self.max_iter, ConvergenceWarning)\n",
      "d:\\programs\\python37\\lib\\site-packages\\sklearn\\neural_network\\multilayer_perceptron.py:566: ConvergenceWarning: Stochastic Optimizer: Maximum iterations (200) reached and the optimization hasn't converged yet.\n",
      "  % self.max_iter, ConvergenceWarning)\n",
      "d:\\programs\\python37\\lib\\site-packages\\sklearn\\neural_network\\multilayer_perceptron.py:566: ConvergenceWarning: Stochastic Optimizer: Maximum iterations (200) reached and the optimization hasn't converged yet.\n",
      "  % self.max_iter, ConvergenceWarning)\n",
      "d:\\programs\\python37\\lib\\site-packages\\sklearn\\neural_network\\multilayer_perceptron.py:566: ConvergenceWarning: Stochastic Optimizer: Maximum iterations (200) reached and the optimization hasn't converged yet.\n",
      "  % self.max_iter, ConvergenceWarning)\n",
      "d:\\programs\\python37\\lib\\site-packages\\sklearn\\neural_network\\multilayer_perceptron.py:566: ConvergenceWarning: Stochastic Optimizer: Maximum iterations (200) reached and the optimization hasn't converged yet.\n",
      "  % self.max_iter, ConvergenceWarning)\n",
      "d:\\programs\\python37\\lib\\site-packages\\sklearn\\neural_network\\multilayer_perceptron.py:566: ConvergenceWarning: Stochastic Optimizer: Maximum iterations (200) reached and the optimization hasn't converged yet.\n",
      "  % self.max_iter, ConvergenceWarning)\n",
      "d:\\programs\\python37\\lib\\site-packages\\sklearn\\neural_network\\multilayer_perceptron.py:566: ConvergenceWarning: Stochastic Optimizer: Maximum iterations (200) reached and the optimization hasn't converged yet.\n",
      "  % self.max_iter, ConvergenceWarning)\n",
      "d:\\programs\\python37\\lib\\site-packages\\sklearn\\neural_network\\multilayer_perceptron.py:566: ConvergenceWarning: Stochastic Optimizer: Maximum iterations (200) reached and the optimization hasn't converged yet.\n",
      "  % self.max_iter, ConvergenceWarning)\n",
      "d:\\programs\\python37\\lib\\site-packages\\sklearn\\neural_network\\multilayer_perceptron.py:566: ConvergenceWarning: Stochastic Optimizer: Maximum iterations (200) reached and the optimization hasn't converged yet.\n",
      "  % self.max_iter, ConvergenceWarning)\n"
     ]
    },
    {
     "name": "stderr",
     "output_type": "stream",
     "text": [
      "d:\\programs\\python37\\lib\\site-packages\\sklearn\\neural_network\\multilayer_perceptron.py:566: ConvergenceWarning: Stochastic Optimizer: Maximum iterations (200) reached and the optimization hasn't converged yet.\n",
      "  % self.max_iter, ConvergenceWarning)\n",
      "d:\\programs\\python37\\lib\\site-packages\\sklearn\\neural_network\\multilayer_perceptron.py:566: ConvergenceWarning: Stochastic Optimizer: Maximum iterations (200) reached and the optimization hasn't converged yet.\n",
      "  % self.max_iter, ConvergenceWarning)\n",
      "d:\\programs\\python37\\lib\\site-packages\\sklearn\\neural_network\\multilayer_perceptron.py:566: ConvergenceWarning: Stochastic Optimizer: Maximum iterations (200) reached and the optimization hasn't converged yet.\n",
      "  % self.max_iter, ConvergenceWarning)\n",
      "d:\\programs\\python37\\lib\\site-packages\\sklearn\\neural_network\\multilayer_perceptron.py:566: ConvergenceWarning: Stochastic Optimizer: Maximum iterations (200) reached and the optimization hasn't converged yet.\n",
      "  % self.max_iter, ConvergenceWarning)\n",
      "d:\\programs\\python37\\lib\\site-packages\\sklearn\\metrics\\classification.py:1437: UndefinedMetricWarning: Precision is ill-defined and being set to 0.0 in labels with no predicted samples.\n",
      "  'precision', 'predicted', average, warn_for)\n",
      "d:\\programs\\python37\\lib\\site-packages\\sklearn\\metrics\\classification.py:1437: UndefinedMetricWarning: F-score is ill-defined and being set to 0.0 in labels with no predicted samples.\n",
      "  'precision', 'predicted', average, warn_for)\n",
      "d:\\programs\\python37\\lib\\site-packages\\sklearn\\metrics\\classification.py:1437: UndefinedMetricWarning: Precision is ill-defined and being set to 0.0 in labels with no predicted samples.\n",
      "  'precision', 'predicted', average, warn_for)\n",
      "d:\\programs\\python37\\lib\\site-packages\\sklearn\\metrics\\classification.py:1437: UndefinedMetricWarning: F-score is ill-defined and being set to 0.0 in labels with no predicted samples.\n",
      "  'precision', 'predicted', average, warn_for)\n",
      "d:\\programs\\python37\\lib\\site-packages\\sklearn\\metrics\\classification.py:1437: UndefinedMetricWarning: Precision is ill-defined and being set to 0.0 in labels with no predicted samples.\n",
      "  'precision', 'predicted', average, warn_for)\n",
      "d:\\programs\\python37\\lib\\site-packages\\sklearn\\metrics\\classification.py:1437: UndefinedMetricWarning: F-score is ill-defined and being set to 0.0 in labels with no predicted samples.\n",
      "  'precision', 'predicted', average, warn_for)\n",
      "d:\\programs\\python37\\lib\\site-packages\\sklearn\\metrics\\classification.py:1437: UndefinedMetricWarning: Precision is ill-defined and being set to 0.0 in labels with no predicted samples.\n",
      "  'precision', 'predicted', average, warn_for)\n",
      "d:\\programs\\python37\\lib\\site-packages\\sklearn\\metrics\\classification.py:1437: UndefinedMetricWarning: F-score is ill-defined and being set to 0.0 in labels with no predicted samples.\n",
      "  'precision', 'predicted', average, warn_for)\n",
      "d:\\programs\\python37\\lib\\site-packages\\sklearn\\metrics\\classification.py:1437: UndefinedMetricWarning: Precision is ill-defined and being set to 0.0 in labels with no predicted samples.\n",
      "  'precision', 'predicted', average, warn_for)\n",
      "d:\\programs\\python37\\lib\\site-packages\\sklearn\\metrics\\classification.py:1437: UndefinedMetricWarning: F-score is ill-defined and being set to 0.0 in labels with no predicted samples.\n",
      "  'precision', 'predicted', average, warn_for)\n",
      "d:\\programs\\python37\\lib\\site-packages\\sklearn\\metrics\\classification.py:1437: UndefinedMetricWarning: Precision is ill-defined and being set to 0.0 in labels with no predicted samples.\n",
      "  'precision', 'predicted', average, warn_for)\n",
      "d:\\programs\\python37\\lib\\site-packages\\sklearn\\metrics\\classification.py:1437: UndefinedMetricWarning: F-score is ill-defined and being set to 0.0 in labels with no predicted samples.\n",
      "  'precision', 'predicted', average, warn_for)\n",
      "d:\\programs\\python37\\lib\\site-packages\\sklearn\\metrics\\classification.py:1437: UndefinedMetricWarning: Precision is ill-defined and being set to 0.0 in labels with no predicted samples.\n",
      "  'precision', 'predicted', average, warn_for)\n",
      "d:\\programs\\python37\\lib\\site-packages\\sklearn\\metrics\\classification.py:1437: UndefinedMetricWarning: F-score is ill-defined and being set to 0.0 in labels with no predicted samples.\n",
      "  'precision', 'predicted', average, warn_for)\n",
      "d:\\programs\\python37\\lib\\site-packages\\sklearn\\metrics\\classification.py:1437: UndefinedMetricWarning: Precision is ill-defined and being set to 0.0 in labels with no predicted samples.\n",
      "  'precision', 'predicted', average, warn_for)\n",
      "d:\\programs\\python37\\lib\\site-packages\\sklearn\\metrics\\classification.py:1437: UndefinedMetricWarning: F-score is ill-defined and being set to 0.0 in labels with no predicted samples.\n",
      "  'precision', 'predicted', average, warn_for)\n",
      "d:\\programs\\python37\\lib\\site-packages\\sklearn\\metrics\\classification.py:1437: UndefinedMetricWarning: Precision is ill-defined and being set to 0.0 in labels with no predicted samples.\n",
      "  'precision', 'predicted', average, warn_for)\n",
      "d:\\programs\\python37\\lib\\site-packages\\sklearn\\metrics\\classification.py:1437: UndefinedMetricWarning: F-score is ill-defined and being set to 0.0 in labels with no predicted samples.\n",
      "  'precision', 'predicted', average, warn_for)\n",
      "d:\\programs\\python37\\lib\\site-packages\\sklearn\\metrics\\classification.py:1437: UndefinedMetricWarning: Precision is ill-defined and being set to 0.0 in labels with no predicted samples.\n",
      "  'precision', 'predicted', average, warn_for)\n",
      "d:\\programs\\python37\\lib\\site-packages\\sklearn\\metrics\\classification.py:1437: UndefinedMetricWarning: F-score is ill-defined and being set to 0.0 in labels with no predicted samples.\n",
      "  'precision', 'predicted', average, warn_for)\n",
      "d:\\programs\\python37\\lib\\site-packages\\sklearn\\neural_network\\multilayer_perceptron.py:566: ConvergenceWarning: Stochastic Optimizer: Maximum iterations (200) reached and the optimization hasn't converged yet.\n",
      "  % self.max_iter, ConvergenceWarning)\n",
      "d:\\programs\\python37\\lib\\site-packages\\sklearn\\neural_network\\multilayer_perceptron.py:566: ConvergenceWarning: Stochastic Optimizer: Maximum iterations (200) reached and the optimization hasn't converged yet.\n",
      "  % self.max_iter, ConvergenceWarning)\n",
      "d:\\programs\\python37\\lib\\site-packages\\sklearn\\neural_network\\multilayer_perceptron.py:566: ConvergenceWarning: Stochastic Optimizer: Maximum iterations (200) reached and the optimization hasn't converged yet.\n",
      "  % self.max_iter, ConvergenceWarning)\n",
      "d:\\programs\\python37\\lib\\site-packages\\sklearn\\neural_network\\multilayer_perceptron.py:566: ConvergenceWarning: Stochastic Optimizer: Maximum iterations (200) reached and the optimization hasn't converged yet.\n",
      "  % self.max_iter, ConvergenceWarning)\n",
      "d:\\programs\\python37\\lib\\site-packages\\sklearn\\neural_network\\multilayer_perceptron.py:566: ConvergenceWarning: Stochastic Optimizer: Maximum iterations (200) reached and the optimization hasn't converged yet.\n",
      "  % self.max_iter, ConvergenceWarning)\n",
      "d:\\programs\\python37\\lib\\site-packages\\sklearn\\neural_network\\multilayer_perceptron.py:566: ConvergenceWarning: Stochastic Optimizer: Maximum iterations (200) reached and the optimization hasn't converged yet.\n",
      "  % self.max_iter, ConvergenceWarning)\n",
      "d:\\programs\\python37\\lib\\site-packages\\sklearn\\neural_network\\multilayer_perceptron.py:566: ConvergenceWarning: Stochastic Optimizer: Maximum iterations (200) reached and the optimization hasn't converged yet.\n",
      "  % self.max_iter, ConvergenceWarning)\n",
      "d:\\programs\\python37\\lib\\site-packages\\sklearn\\neural_network\\multilayer_perceptron.py:566: ConvergenceWarning: Stochastic Optimizer: Maximum iterations (200) reached and the optimization hasn't converged yet.\n",
      "  % self.max_iter, ConvergenceWarning)\n",
      "d:\\programs\\python37\\lib\\site-packages\\sklearn\\neural_network\\multilayer_perceptron.py:566: ConvergenceWarning: Stochastic Optimizer: Maximum iterations (200) reached and the optimization hasn't converged yet.\n",
      "  % self.max_iter, ConvergenceWarning)\n",
      "d:\\programs\\python37\\lib\\site-packages\\sklearn\\neural_network\\multilayer_perceptron.py:566: ConvergenceWarning: Stochastic Optimizer: Maximum iterations (200) reached and the optimization hasn't converged yet.\n",
      "  % self.max_iter, ConvergenceWarning)\n",
      "d:\\programs\\python37\\lib\\site-packages\\sklearn\\neural_network\\multilayer_perceptron.py:566: ConvergenceWarning: Stochastic Optimizer: Maximum iterations (200) reached and the optimization hasn't converged yet.\n",
      "  % self.max_iter, ConvergenceWarning)\n"
     ]
    },
    {
     "name": "stderr",
     "output_type": "stream",
     "text": [
      "d:\\programs\\python37\\lib\\site-packages\\sklearn\\neural_network\\multilayer_perceptron.py:566: ConvergenceWarning: Stochastic Optimizer: Maximum iterations (200) reached and the optimization hasn't converged yet.\n",
      "  % self.max_iter, ConvergenceWarning)\n",
      "d:\\programs\\python37\\lib\\site-packages\\sklearn\\neural_network\\multilayer_perceptron.py:566: ConvergenceWarning: Stochastic Optimizer: Maximum iterations (200) reached and the optimization hasn't converged yet.\n",
      "  % self.max_iter, ConvergenceWarning)\n",
      "d:\\programs\\python37\\lib\\site-packages\\sklearn\\neural_network\\multilayer_perceptron.py:566: ConvergenceWarning: Stochastic Optimizer: Maximum iterations (200) reached and the optimization hasn't converged yet.\n",
      "  % self.max_iter, ConvergenceWarning)\n",
      "d:\\programs\\python37\\lib\\site-packages\\sklearn\\neural_network\\multilayer_perceptron.py:566: ConvergenceWarning: Stochastic Optimizer: Maximum iterations (200) reached and the optimization hasn't converged yet.\n",
      "  % self.max_iter, ConvergenceWarning)\n",
      "d:\\programs\\python37\\lib\\site-packages\\sklearn\\neural_network\\multilayer_perceptron.py:566: ConvergenceWarning: Stochastic Optimizer: Maximum iterations (200) reached and the optimization hasn't converged yet.\n",
      "  % self.max_iter, ConvergenceWarning)\n",
      "d:\\programs\\python37\\lib\\site-packages\\sklearn\\neural_network\\multilayer_perceptron.py:566: ConvergenceWarning: Stochastic Optimizer: Maximum iterations (200) reached and the optimization hasn't converged yet.\n",
      "  % self.max_iter, ConvergenceWarning)\n",
      "d:\\programs\\python37\\lib\\site-packages\\sklearn\\neural_network\\multilayer_perceptron.py:566: ConvergenceWarning: Stochastic Optimizer: Maximum iterations (200) reached and the optimization hasn't converged yet.\n",
      "  % self.max_iter, ConvergenceWarning)\n",
      "d:\\programs\\python37\\lib\\site-packages\\sklearn\\neural_network\\multilayer_perceptron.py:566: ConvergenceWarning: Stochastic Optimizer: Maximum iterations (200) reached and the optimization hasn't converged yet.\n",
      "  % self.max_iter, ConvergenceWarning)\n",
      "d:\\programs\\python37\\lib\\site-packages\\sklearn\\neural_network\\multilayer_perceptron.py:566: ConvergenceWarning: Stochastic Optimizer: Maximum iterations (200) reached and the optimization hasn't converged yet.\n",
      "  % self.max_iter, ConvergenceWarning)\n",
      "d:\\programs\\python37\\lib\\site-packages\\sklearn\\neural_network\\multilayer_perceptron.py:566: ConvergenceWarning: Stochastic Optimizer: Maximum iterations (200) reached and the optimization hasn't converged yet.\n",
      "  % self.max_iter, ConvergenceWarning)\n",
      "d:\\programs\\python37\\lib\\site-packages\\sklearn\\neural_network\\multilayer_perceptron.py:566: ConvergenceWarning: Stochastic Optimizer: Maximum iterations (200) reached and the optimization hasn't converged yet.\n",
      "  % self.max_iter, ConvergenceWarning)\n",
      "d:\\programs\\python37\\lib\\site-packages\\sklearn\\neural_network\\multilayer_perceptron.py:566: ConvergenceWarning: Stochastic Optimizer: Maximum iterations (200) reached and the optimization hasn't converged yet.\n",
      "  % self.max_iter, ConvergenceWarning)\n",
      "d:\\programs\\python37\\lib\\site-packages\\sklearn\\neural_network\\multilayer_perceptron.py:566: ConvergenceWarning: Stochastic Optimizer: Maximum iterations (200) reached and the optimization hasn't converged yet.\n",
      "  % self.max_iter, ConvergenceWarning)\n",
      "d:\\programs\\python37\\lib\\site-packages\\sklearn\\neural_network\\multilayer_perceptron.py:566: ConvergenceWarning: Stochastic Optimizer: Maximum iterations (200) reached and the optimization hasn't converged yet.\n",
      "  % self.max_iter, ConvergenceWarning)\n",
      "d:\\programs\\python37\\lib\\site-packages\\sklearn\\neural_network\\multilayer_perceptron.py:566: ConvergenceWarning: Stochastic Optimizer: Maximum iterations (200) reached and the optimization hasn't converged yet.\n",
      "  % self.max_iter, ConvergenceWarning)\n",
      "d:\\programs\\python37\\lib\\site-packages\\sklearn\\neural_network\\multilayer_perceptron.py:566: ConvergenceWarning: Stochastic Optimizer: Maximum iterations (200) reached and the optimization hasn't converged yet.\n",
      "  % self.max_iter, ConvergenceWarning)\n",
      "d:\\programs\\python37\\lib\\site-packages\\sklearn\\neural_network\\multilayer_perceptron.py:566: ConvergenceWarning: Stochastic Optimizer: Maximum iterations (200) reached and the optimization hasn't converged yet.\n",
      "  % self.max_iter, ConvergenceWarning)\n",
      "d:\\programs\\python37\\lib\\site-packages\\sklearn\\neural_network\\multilayer_perceptron.py:566: ConvergenceWarning: Stochastic Optimizer: Maximum iterations (200) reached and the optimization hasn't converged yet.\n",
      "  % self.max_iter, ConvergenceWarning)\n",
      "d:\\programs\\python37\\lib\\site-packages\\sklearn\\neural_network\\multilayer_perceptron.py:566: ConvergenceWarning: Stochastic Optimizer: Maximum iterations (200) reached and the optimization hasn't converged yet.\n",
      "  % self.max_iter, ConvergenceWarning)\n"
     ]
    }
   ],
   "source": [
    "all_fscores = []\n",
    "names = []\n",
    "hidden_layer_sizess = [(100,), (100,50,), (50,25,10,)]\n",
    "activations = ['logistic', 'tanh', 'relu']\n",
    "solvers = ['lbfgs', 'sgd', 'adam']\n",
    "\n",
    "\n",
    "for hidden_layer_sizes in hidden_layer_sizess:\n",
    "    for activation in activations:\n",
    "        for solver in solvers:\n",
    "            name = 'MLPClassifier(hidden_layer_sizes=' + str(hidden_layer_sizes) + ', activation=' + str(activation) + ', solver= ' + str(solver) + ')'\n",
    "            accuracy, precision, recall, fscore, cm = calculateStats(MLPClassifier(hidden_layer_sizes=hidden_layer_sizes, activation=activation, solver=solver), name, datContent)\n",
    "            all_fscores.append(fscore)\n",
    "            names.append(name)"
   ]
  },
  {
   "cell_type": "code",
   "execution_count": 372,
   "metadata": {},
   "outputs": [
    {
     "name": "stdout",
     "output_type": "stream",
     "text": [
      "{\n",
      "    \"MLPClassifier(hidden_layer_sizes=(100,), activation=logistic, solver= lbfgs)\": 0.9807484231354586,\n",
      "    \"MLPClassifier(hidden_layer_sizes=(100,), activation=logistic, solver= sgd)\": 0.8976707533025335,\n",
      "    \"MLPClassifier(hidden_layer_sizes=(100,), activation=logistic, solver= adam)\": 0.9800033848474186,\n",
      "    \"MLPClassifier(hidden_layer_sizes=(100,), activation=tanh, solver= lbfgs)\": 0.973310549460891,\n",
      "    \"MLPClassifier(hidden_layer_sizes=(100,), activation=tanh, solver= sgd)\": 0.9736472399936071,\n",
      "    \"MLPClassifier(hidden_layer_sizes=(100,), activation=tanh, solver= adam)\": 0.9782785318191296,\n",
      "    \"MLPClassifier(hidden_layer_sizes=(100,), activation=relu, solver= lbfgs)\": 0.9782756042672283,\n",
      "    \"MLPClassifier(hidden_layer_sizes=(100,), activation=relu, solver= sgd)\": 0.974883583940587,\n",
      "    \"MLPClassifier(hidden_layer_sizes=(100,), activation=relu, solver= adam)\": 0.9816132491432213,\n",
      "    \"MLPClassifier(hidden_layer_sizes=(100, 50), activation=logistic, solver= lbfgs)\": 0.9804581514748423,\n",
      "    \"MLPClassifier(hidden_layer_sizes=(100, 50), activation=logistic, solver= sgd)\": 0.4701956021191765,\n",
      "    \"MLPClassifier(hidden_layer_sizes=(100, 50), activation=logistic, solver= adam)\": 0.9815362488323005,\n",
      "    \"MLPClassifier(hidden_layer_sizes=(100, 50), activation=tanh, solver= lbfgs)\": 0.9741383018458567,\n",
      "    \"MLPClassifier(hidden_layer_sizes=(100, 50), activation=tanh, solver= sgd)\": 0.9782206280207719,\n",
      "    \"MLPClassifier(hidden_layer_sizes=(100, 50), activation=tanh, solver= adam)\": 0.9762326423128098,\n",
      "    \"MLPClassifier(hidden_layer_sizes=(100, 50), activation=relu, solver= lbfgs)\": 0.9486098683408872,\n",
      "    \"MLPClassifier(hidden_layer_sizes=(100, 50), activation=relu, solver= sgd)\": 0.9745650659094949,\n",
      "    \"MLPClassifier(hidden_layer_sizes=(100, 50), activation=relu, solver= adam)\": 0.9835791848663948,\n",
      "    \"MLPClassifier(hidden_layer_sizes=(50, 25, 10), activation=logistic, solver= lbfgs)\": 0.9731806670890375,\n",
      "    \"MLPClassifier(hidden_layer_sizes=(50, 25, 10), activation=logistic, solver= sgd)\": 0.4645294898934839,\n",
      "    \"MLPClassifier(hidden_layer_sizes=(50, 25, 10), activation=logistic, solver= adam)\": 0.9817814463431505,\n",
      "    \"MLPClassifier(hidden_layer_sizes=(50, 25, 10), activation=tanh, solver= lbfgs)\": 0.9757023047821471,\n",
      "    \"MLPClassifier(hidden_layer_sizes=(50, 25, 10), activation=tanh, solver= sgd)\": 0.9801996362761818,\n",
      "    \"MLPClassifier(hidden_layer_sizes=(50, 25, 10), activation=tanh, solver= adam)\": 0.9782642087681962,\n",
      "    \"MLPClassifier(hidden_layer_sizes=(50, 25, 10), activation=relu, solver= lbfgs)\": 0.9771901598472226,\n",
      "    \"MLPClassifier(hidden_layer_sizes=(50, 25, 10), activation=relu, solver= sgd)\": 0.9809953180080685,\n",
      "    \"MLPClassifier(hidden_layer_sizes=(50, 25, 10), activation=relu, solver= adam)\": 0.9814005965239175\n",
      "}\n"
     ]
    },
    {
     "data": {
      "text/plain": [
       "<Figure size 432x288 with 0 Axes>"
      ]
     },
     "metadata": {},
     "output_type": "display_data"
    },
    {
     "data": {
      "image/png": "[encoded data removed]",
      "text/plain": [
       "<Figure size 432x720 with 1 Axes>"
      ]
     },
     "metadata": {
      "needs_background": "light"
     },
     "output_type": "display_data"
    }
   ],
   "source": [
    "fig = plt.figure()\n",
    "\n",
    "X = names\n",
    "Y = all_fscores\n",
    "\n",
    "data = (X, Y)\n",
    "\n",
    "plt.figure(figsize=(6, 10))\n",
    "plt.barh(X, Y, alpha=0.5, align='center')\n",
    "plt.axvline(x=.97, color='r')\n",
    "plt.xlabel('Wartość f-score')\n",
    "plt.title('F-sscore klasyfikatorów')\n",
    "plt.xlim(0.95, 1.0)\n",
    "\n",
    "odp = dict(zip(names, all_fscores))\n",
    "import json\n",
    "print(json.dumps(odp, indent = 4))"
   ]
  },
  {
   "cell_type": "code",
   "execution_count": 373,
   "metadata": {},
   "outputs": [
    {
     "name": "stdout",
     "output_type": "stream",
     "text": [
      "MLPClassifier(hidden_layer_sizes=(100,), activation=relu, solver= adam):\n",
      "\n",
      "Accuracy: 0.9837160751565761\n",
      "Precision: 0.9837413317921527\n",
      "Recall: 0.9837160751565761\n",
      "F-score: 0.9837075337143913\n",
      "\n",
      "Macierz konfuzji:\n",
      "\n",
      "[[2933   25]\n",
      " [  55 1777]]\n"
     ]
    },
    {
     "data": {
      "image/png": "[encoded data removed]",
      "text/plain": [
       "<Figure size 432x288 with 2 Axes>"
      ]
     },
     "metadata": {
      "needs_background": "light"
     },
     "output_type": "display_data"
    }
   ],
   "source": [
    "do_the_thing(MLPClassifier(hidden_layer_sizes=(100,50,), activation='relu', solver='adam'), name='MLPClassifier(hidden_layer_sizes=(100,), activation=relu, solver= adam)', data=datContent)"
   ]
  },
  {
   "cell_type": "markdown",
   "metadata": {},
   "source": [
    "##### Najlepsze klasyfikatory:\n",
    "\n",
    " * MultinomialNB(alpha=0.5, fit_prior=True)\n",
    " * svm.SVC(kernel='rbf', gamma='scale', shrinking=True, probability= False)\n",
    " * MLPClassifier(hidden_layer_sizes=(100,50,), activation='relu', solver='adam')"
   ]
  },
  {
   "cell_type": "markdown",
   "metadata": {},
   "source": [
    "# Ranking cech"
   ]
  },
  {
   "cell_type": "code",
   "execution_count": 374,
   "metadata": {},
   "outputs": [],
   "source": [
    "from sklearn.feature_selection import SelectKBest\n",
    "from sklearn.feature_selection import chi2, mutual_info_classif\n",
    "\n",
    "X = datContent.drop('K', axis = 1)\n",
    "Y = datContent.K\n",
    "test = SelectKBest(score_func=chi2, k=2)\n",
    "test.fit(X, Y)\n",
    "\n",
    "scores = []\n",
    "num_features = len(X.columns)\n",
    "for i in range(num_features):\n",
    "    score = test.scores_[i]\n",
    "    scores.append((score, X.columns[i]))\n",
    "\n",
    "sortedFeatures = sorted(scores, reverse = True)\n",
    "sortedFeatures = list(map(lambda x: x[1], sortedFeatures))"
   ]
  },
  {
   "cell_type": "code",
   "execution_count": 375,
   "metadata": {},
   "outputs": [
    {
     "name": "stderr",
     "output_type": "stream",
     "text": [
      "d:\\programs\\python37\\lib\\site-packages\\sklearn\\metrics\\classification.py:1437: UndefinedMetricWarning: Precision is ill-defined and being set to 0.0 in labels with no predicted samples.\n",
      "  'precision', 'predicted', average, warn_for)\n",
      "d:\\programs\\python37\\lib\\site-packages\\sklearn\\metrics\\classification.py:1437: UndefinedMetricWarning: F-score is ill-defined and being set to 0.0 in labels with no predicted samples.\n",
      "  'precision', 'predicted', average, warn_for)\n",
      "d:\\programs\\python37\\lib\\site-packages\\sklearn\\metrics\\classification.py:1437: UndefinedMetricWarning: Precision is ill-defined and being set to 0.0 in labels with no predicted samples.\n",
      "  'precision', 'predicted', average, warn_for)\n",
      "d:\\programs\\python37\\lib\\site-packages\\sklearn\\metrics\\classification.py:1437: UndefinedMetricWarning: F-score is ill-defined and being set to 0.0 in labels with no predicted samples.\n",
      "  'precision', 'predicted', average, warn_for)\n",
      "d:\\programs\\python37\\lib\\site-packages\\sklearn\\metrics\\classification.py:1437: UndefinedMetricWarning: Precision is ill-defined and being set to 0.0 in labels with no predicted samples.\n",
      "  'precision', 'predicted', average, warn_for)\n",
      "d:\\programs\\python37\\lib\\site-packages\\sklearn\\metrics\\classification.py:1437: UndefinedMetricWarning: F-score is ill-defined and being set to 0.0 in labels with no predicted samples.\n",
      "  'precision', 'predicted', average, warn_for)\n",
      "d:\\programs\\python37\\lib\\site-packages\\sklearn\\metrics\\classification.py:1437: UndefinedMetricWarning: Precision is ill-defined and being set to 0.0 in labels with no predicted samples.\n",
      "  'precision', 'predicted', average, warn_for)\n",
      "d:\\programs\\python37\\lib\\site-packages\\sklearn\\metrics\\classification.py:1437: UndefinedMetricWarning: F-score is ill-defined and being set to 0.0 in labels with no predicted samples.\n",
      "  'precision', 'predicted', average, warn_for)\n",
      "d:\\programs\\python37\\lib\\site-packages\\sklearn\\metrics\\classification.py:1437: UndefinedMetricWarning: Precision is ill-defined and being set to 0.0 in labels with no predicted samples.\n",
      "  'precision', 'predicted', average, warn_for)\n",
      "d:\\programs\\python37\\lib\\site-packages\\sklearn\\metrics\\classification.py:1437: UndefinedMetricWarning: F-score is ill-defined and being set to 0.0 in labels with no predicted samples.\n",
      "  'precision', 'predicted', average, warn_for)\n",
      "d:\\programs\\python37\\lib\\site-packages\\sklearn\\metrics\\classification.py:1437: UndefinedMetricWarning: Precision is ill-defined and being set to 0.0 in labels with no predicted samples.\n",
      "  'precision', 'predicted', average, warn_for)\n",
      "d:\\programs\\python37\\lib\\site-packages\\sklearn\\metrics\\classification.py:1437: UndefinedMetricWarning: F-score is ill-defined and being set to 0.0 in labels with no predicted samples.\n",
      "  'precision', 'predicted', average, warn_for)\n"
     ]
    },
    {
     "name": "stdout",
     "output_type": "stream",
     "text": [
      "3/463\n"
     ]
    },
    {
     "name": "stderr",
     "output_type": "stream",
     "text": [
      "d:\\programs\\python37\\lib\\site-packages\\sklearn\\metrics\\classification.py:1437: UndefinedMetricWarning: Precision is ill-defined and being set to 0.0 in labels with no predicted samples.\n",
      "  'precision', 'predicted', average, warn_for)\n",
      "d:\\programs\\python37\\lib\\site-packages\\sklearn\\metrics\\classification.py:1437: UndefinedMetricWarning: F-score is ill-defined and being set to 0.0 in labels with no predicted samples.\n",
      "  'precision', 'predicted', average, warn_for)\n",
      "d:\\programs\\python37\\lib\\site-packages\\sklearn\\metrics\\classification.py:1437: UndefinedMetricWarning: Precision is ill-defined and being set to 0.0 in labels with no predicted samples.\n",
      "  'precision', 'predicted', average, warn_for)\n",
      "d:\\programs\\python37\\lib\\site-packages\\sklearn\\metrics\\classification.py:1437: UndefinedMetricWarning: F-score is ill-defined and being set to 0.0 in labels with no predicted samples.\n",
      "  'precision', 'predicted', average, warn_for)\n",
      "d:\\programs\\python37\\lib\\site-packages\\sklearn\\metrics\\classification.py:1437: UndefinedMetricWarning: Precision is ill-defined and being set to 0.0 in labels with no predicted samples.\n",
      "  'precision', 'predicted', average, warn_for)\n",
      "d:\\programs\\python37\\lib\\site-packages\\sklearn\\metrics\\classification.py:1437: UndefinedMetricWarning: F-score is ill-defined and being set to 0.0 in labels with no predicted samples.\n",
      "  'precision', 'predicted', average, warn_for)\n",
      "d:\\programs\\python37\\lib\\site-packages\\sklearn\\metrics\\classification.py:1437: UndefinedMetricWarning: Precision is ill-defined and being set to 0.0 in labels with no predicted samples.\n",
      "  'precision', 'predicted', average, warn_for)\n",
      "d:\\programs\\python37\\lib\\site-packages\\sklearn\\metrics\\classification.py:1437: UndefinedMetricWarning: F-score is ill-defined and being set to 0.0 in labels with no predicted samples.\n",
      "  'precision', 'predicted', average, warn_for)\n",
      "d:\\programs\\python37\\lib\\site-packages\\sklearn\\metrics\\classification.py:1437: UndefinedMetricWarning: Precision is ill-defined and being set to 0.0 in labels with no predicted samples.\n",
      "  'precision', 'predicted', average, warn_for)\n",
      "d:\\programs\\python37\\lib\\site-packages\\sklearn\\metrics\\classification.py:1437: UndefinedMetricWarning: F-score is ill-defined and being set to 0.0 in labels with no predicted samples.\n",
      "  'precision', 'predicted', average, warn_for)\n",
      "d:\\programs\\python37\\lib\\site-packages\\sklearn\\metrics\\classification.py:1437: UndefinedMetricWarning: Precision is ill-defined and being set to 0.0 in labels with no predicted samples.\n",
      "  'precision', 'predicted', average, warn_for)\n",
      "d:\\programs\\python37\\lib\\site-packages\\sklearn\\metrics\\classification.py:1437: UndefinedMetricWarning: F-score is ill-defined and being set to 0.0 in labels with no predicted samples.\n",
      "  'precision', 'predicted', average, warn_for)\n",
      "d:\\programs\\python37\\lib\\site-packages\\sklearn\\metrics\\classification.py:1437: UndefinedMetricWarning: Precision is ill-defined and being set to 0.0 in labels with no predicted samples.\n",
      "  'precision', 'predicted', average, warn_for)\n",
      "d:\\programs\\python37\\lib\\site-packages\\sklearn\\metrics\\classification.py:1437: UndefinedMetricWarning: F-score is ill-defined and being set to 0.0 in labels with no predicted samples.\n",
      "  'precision', 'predicted', average, warn_for)\n",
      "d:\\programs\\python37\\lib\\site-packages\\sklearn\\metrics\\classification.py:1437: UndefinedMetricWarning: Precision is ill-defined and being set to 0.0 in labels with no predicted samples.\n",
      "  'precision', 'predicted', average, warn_for)\n",
      "d:\\programs\\python37\\lib\\site-packages\\sklearn\\metrics\\classification.py:1437: UndefinedMetricWarning: F-score is ill-defined and being set to 0.0 in labels with no predicted samples.\n",
      "  'precision', 'predicted', average, warn_for)\n"
     ]
    },
    {
     "name": "stdout",
     "output_type": "stream",
     "text": [
      "4/463\n",
      "5/463\n",
      "6/463\n",
      "7/463\n",
      "8/463\n",
      "9/463\n",
      "10/463\n",
      "11/463\n",
      "12/463\n",
      "13/463\n",
      "14/463\n",
      "15/463\n",
      "16/463\n",
      "17/463\n",
      "18/463\n",
      "19/463\n",
      "20/463\n",
      "21/463\n",
      "22/463\n",
      "23/463\n",
      "24/463\n",
      "25/463\n",
      "26/463\n",
      "27/463\n",
      "28/463\n",
      "29/463\n",
      "30/463\n",
      "31/463\n",
      "32/463\n",
      "33/463\n",
      "34/463\n",
      "35/463\n",
      "36/463\n",
      "37/463\n",
      "38/463\n",
      "39/463\n",
      "40/463\n",
      "41/463\n",
      "42/463\n",
      "43/463\n",
      "44/463\n",
      "45/463\n",
      "46/463\n",
      "47/463\n",
      "48/463\n",
      "49/463\n",
      "50/463\n",
      "51/463\n",
      "52/463\n",
      "53/463\n",
      "54/463\n",
      "55/463\n",
      "56/463\n",
      "57/463\n",
      "58/463\n",
      "59/463\n",
      "60/463\n",
      "61/463\n",
      "62/463\n",
      "63/463\n",
      "64/463\n",
      "65/463\n",
      "66/463\n",
      "67/463\n",
      "68/463\n",
      "69/463\n",
      "70/463\n",
      "71/463\n",
      "72/463\n",
      "73/463\n",
      "74/463\n",
      "75/463\n",
      "76/463\n",
      "77/463\n",
      "78/463\n",
      "79/463\n",
      "80/463\n",
      "81/463\n",
      "82/463\n",
      "83/463\n",
      "84/463\n",
      "85/463\n",
      "86/463\n",
      "87/463\n",
      "88/463\n",
      "89/463\n",
      "90/463\n",
      "91/463\n",
      "92/463\n",
      "93/463\n",
      "94/463\n",
      "95/463\n",
      "96/463\n",
      "97/463\n",
      "98/463\n",
      "99/463\n",
      "100/463\n",
      "101/463\n",
      "102/463\n",
      "103/463\n",
      "104/463\n",
      "105/463\n",
      "106/463\n",
      "107/463\n",
      "108/463\n",
      "109/463\n",
      "110/463\n",
      "111/463\n",
      "112/463\n",
      "113/463\n",
      "114/463\n",
      "115/463\n",
      "116/463\n",
      "117/463\n",
      "118/463\n",
      "119/463\n",
      "120/463\n",
      "121/463\n",
      "122/463\n",
      "123/463\n",
      "124/463\n",
      "125/463\n",
      "126/463\n",
      "127/463\n",
      "128/463\n",
      "129/463\n",
      "130/463\n",
      "131/463\n",
      "132/463\n",
      "133/463\n",
      "134/463\n",
      "135/463\n",
      "136/463\n",
      "137/463\n",
      "138/463\n",
      "139/463\n",
      "140/463\n",
      "141/463\n",
      "142/463\n",
      "143/463\n",
      "144/463\n",
      "145/463\n",
      "146/463\n",
      "147/463\n",
      "148/463\n",
      "149/463\n",
      "150/463\n",
      "151/463\n",
      "152/463\n",
      "153/463\n",
      "154/463\n",
      "155/463\n",
      "156/463\n",
      "157/463\n",
      "158/463\n",
      "159/463\n",
      "160/463\n",
      "161/463\n",
      "162/463\n",
      "163/463\n",
      "164/463\n",
      "165/463\n",
      "166/463\n",
      "167/463\n",
      "168/463\n",
      "169/463\n",
      "170/463\n",
      "171/463\n",
      "172/463\n",
      "173/463\n",
      "174/463\n",
      "175/463\n",
      "176/463\n",
      "177/463\n",
      "178/463\n",
      "179/463\n",
      "180/463\n",
      "181/463\n",
      "182/463\n",
      "183/463\n",
      "184/463\n",
      "185/463\n",
      "186/463\n",
      "187/463\n",
      "188/463\n",
      "189/463\n",
      "190/463\n",
      "191/463\n",
      "192/463\n",
      "193/463\n",
      "194/463\n",
      "195/463\n",
      "196/463\n",
      "197/463\n",
      "198/463\n",
      "199/463\n",
      "200/463\n",
      "201/463\n",
      "202/463\n",
      "203/463\n",
      "204/463\n",
      "205/463\n",
      "206/463\n",
      "207/463\n",
      "208/463\n",
      "209/463\n",
      "210/463\n",
      "211/463\n",
      "212/463\n",
      "213/463\n",
      "214/463\n",
      "215/463\n",
      "216/463\n",
      "217/463\n",
      "218/463\n",
      "219/463\n",
      "220/463\n",
      "221/463\n",
      "222/463\n",
      "223/463\n",
      "224/463\n",
      "225/463\n",
      "226/463\n",
      "227/463\n",
      "228/463\n",
      "229/463\n",
      "230/463\n",
      "231/463\n",
      "232/463\n",
      "233/463\n",
      "234/463\n",
      "235/463\n",
      "236/463\n",
      "237/463\n",
      "238/463\n",
      "239/463\n",
      "240/463\n",
      "241/463\n",
      "242/463\n",
      "243/463\n",
      "244/463\n",
      "245/463\n",
      "246/463\n",
      "247/463\n",
      "248/463\n",
      "249/463\n",
      "250/463\n",
      "251/463\n",
      "252/463\n",
      "253/463\n",
      "254/463\n",
      "255/463\n",
      "256/463\n",
      "257/463\n",
      "258/463\n",
      "259/463\n",
      "260/463\n",
      "261/463\n",
      "262/463\n",
      "263/463\n",
      "264/463\n",
      "265/463\n",
      "266/463\n",
      "267/463\n",
      "268/463\n",
      "269/463\n",
      "270/463\n",
      "271/463\n",
      "272/463\n",
      "273/463\n",
      "274/463\n",
      "275/463\n",
      "276/463\n",
      "277/463\n",
      "278/463\n",
      "279/463\n",
      "280/463\n",
      "281/463\n",
      "282/463\n",
      "283/463\n",
      "284/463\n",
      "285/463\n",
      "286/463\n",
      "287/463\n",
      "288/463\n",
      "289/463\n",
      "290/463\n",
      "291/463\n",
      "292/463\n",
      "293/463\n",
      "294/463\n",
      "295/463\n",
      "296/463\n",
      "297/463\n",
      "298/463\n",
      "299/463\n",
      "300/463\n",
      "301/463\n",
      "302/463\n",
      "303/463\n",
      "304/463\n",
      "305/463\n",
      "306/463\n",
      "307/463\n",
      "308/463\n",
      "309/463\n",
      "310/463\n",
      "311/463\n",
      "312/463\n",
      "313/463\n",
      "314/463\n",
      "315/463\n",
      "316/463\n",
      "317/463\n",
      "318/463\n",
      "319/463\n",
      "320/463\n",
      "321/463\n",
      "322/463\n",
      "323/463\n",
      "324/463\n",
      "325/463\n",
      "326/463\n",
      "327/463\n",
      "328/463\n",
      "329/463\n",
      "330/463\n",
      "331/463\n",
      "332/463\n",
      "333/463\n",
      "334/463\n",
      "335/463\n",
      "336/463\n",
      "337/463\n",
      "338/463\n",
      "339/463\n",
      "340/463\n",
      "341/463\n",
      "342/463\n",
      "343/463\n",
      "344/463\n",
      "345/463\n",
      "346/463\n",
      "347/463\n",
      "348/463\n",
      "349/463\n",
      "350/463\n",
      "351/463\n",
      "352/463\n",
      "353/463\n",
      "354/463\n",
      "355/463\n",
      "356/463\n",
      "357/463\n",
      "358/463\n",
      "359/463\n",
      "360/463\n",
      "361/463\n",
      "362/463\n",
      "363/463\n",
      "364/463\n",
      "365/463\n",
      "366/463\n",
      "367/463\n",
      "368/463\n",
      "369/463\n",
      "370/463\n",
      "371/463\n",
      "372/463\n",
      "373/463\n",
      "374/463\n",
      "375/463\n",
      "376/463\n",
      "377/463\n",
      "378/463\n",
      "379/463\n",
      "380/463\n",
      "381/463\n",
      "382/463\n",
      "383/463\n",
      "384/463\n",
      "385/463\n",
      "386/463\n",
      "387/463\n",
      "388/463\n",
      "389/463\n",
      "390/463\n",
      "391/463\n",
      "392/463\n",
      "393/463\n",
      "394/463\n",
      "395/463\n",
      "396/463\n",
      "397/463\n",
      "398/463\n",
      "399/463\n",
      "400/463\n",
      "401/463\n",
      "402/463\n",
      "403/463\n",
      "404/463\n",
      "405/463\n",
      "406/463\n",
      "407/463\n",
      "408/463\n",
      "409/463\n",
      "410/463\n",
      "411/463\n",
      "412/463\n",
      "413/463\n",
      "414/463\n",
      "415/463\n",
      "416/463\n",
      "417/463\n",
      "418/463\n",
      "419/463\n",
      "420/463\n",
      "421/463\n",
      "422/463\n",
      "423/463\n",
      "424/463\n",
      "425/463\n",
      "426/463\n",
      "427/463\n",
      "428/463\n",
      "429/463\n",
      "430/463\n",
      "431/463\n",
      "432/463\n",
      "433/463\n",
      "434/463\n",
      "435/463\n",
      "436/463\n",
      "437/463\n",
      "438/463\n",
      "439/463\n",
      "440/463\n",
      "441/463\n",
      "442/463\n",
      "443/463\n",
      "444/463\n",
      "445/463\n",
      "446/463\n",
      "447/463\n",
      "448/463\n",
      "449/463\n",
      "450/463\n",
      "451/463\n",
      "452/463\n",
      "453/463\n",
      "454/463\n",
      "455/463\n",
      "456/463\n",
      "457/463\n",
      "458/463\n",
      "459/463\n",
      "460/463\n",
      "461/463\n",
      "462/463\n",
      "463/463\n"
     ]
    }
   ],
   "source": [
    "feature_list = range(2, len(sortedFeatures) + 1)\n",
    "f_scores_NB = []\n",
    "f_scores_SVM = []\n",
    "f_scores_MLP = []\n",
    "best_model_NB = None\n",
    "best_model_NB_name = None\n",
    "best_data_NB = []\n",
    "best_model_SVM = None\n",
    "best_model_SVM_name = None\n",
    "best_data_SVM = []\n",
    "best_model_MLP = None\n",
    "best_model_MLP_name = None\n",
    "best_data_MLP = []\n",
    "\n",
    "for feature in feature_list:\n",
    "    subData = None\n",
    "    subData = datContent.copy()\n",
    "    for dropedFeatureIndex in range (feature, len(sortedFeatures)):\n",
    "        subData = subData.drop(sortedFeatures[dropedFeatureIndex], axis=1)\n",
    "\n",
    "    nameNB = 'MultinomialNB(alpha=0.5, fit_prior=True)'\n",
    "    modelNB = MultinomialNB(alpha=0.5, fit_prior=True)\n",
    "    accuracyNB, precisionNB, recallNB, fscoreNB, cmNB = calculateStats(modelNB, name, subData)\n",
    "    f_scores_NB.append(fscoreNB)\n",
    "    if fscoreNB >= max(f_scores_NB):\n",
    "        best_model_NB = modelNB\n",
    "        best_model_NB_name = nameNB\n",
    "        best_data_NB = subData.copy()\n",
    "    \n",
    "    \n",
    "    nameSVM = 'SVC(kernel=rbf, gamma=scale, shrinking=True, probability= False)'\n",
    "    modelSVM = svm.SVC(kernel='rbf', gamma='scale', shrinking=True, probability= False)\n",
    "    accuracySVM, precisionSVM, recallSVM, fscoreSVM, cmSVM = calculateStats(modelSVM, name, subData)\n",
    "    f_scores_SVM.append(fscoreSVM)\n",
    "    if fscoreSVM >= max(f_scores_SVM):\n",
    "        best_model_SVM = modelSVM\n",
    "        best_model_SVM_name = nameSVM\n",
    "        best_data_SVM = subData.copy()\n",
    "    \n",
    "    nameMLP = 'MLPClassifier(hidden_layer_sizes=(100,50,), activation=relu, solver=adam)'\n",
    "    modelMLP = MLPClassifier(hidden_layer_sizes=(100,50,), activation='relu', solver='adam')\n",
    "    accuracyMLP, precisionMLP, recallMLP, fscoreMLP, cmMLP = calculateStats(modelMLP, name, subData)\n",
    "    f_scores_MLP.append(fscoreMLP)\n",
    "    if fscoreMLP >= max(f_scores_MLP):\n",
    "        best_model_MLP = modelMLP\n",
    "        best_model_MLP_name = nameMLP\n",
    "        best_data_MLP = subData.copy()\n",
    "    \n",
    "    print(f'{subData.shape[1]}/{len(sortedFeatures) + 1}')\n",
    "    "
   ]
  },
  {
   "cell_type": "code",
   "execution_count": 376,
   "metadata": {},
   "outputs": [
    {
     "data": {
      "text/plain": [
       "[<matplotlib.lines.Line2D at 0x18ed6579608>]"
      ]
     },
     "execution_count": 376,
     "metadata": {},
     "output_type": "execute_result"
    },
    {
     "data": {
      "image/png": "[encoded data removed]",
      "text/plain": [
       "<Figure size 432x288 with 1 Axes>"
      ]
     },
     "metadata": {
      "needs_background": "light"
     },
     "output_type": "display_data"
    }
   ],
   "source": [
    "plt.figure()\n",
    "plt.title('The optimal number of features(MultinomialNB)', fontweight='bold')\n",
    "plt.xlabel('Number of Features')\n",
    "plt.ylabel('fscore',)\n",
    "plt.plot(feature_list, f_scores_NB)"
   ]
  },
  {
   "cell_type": "code",
   "execution_count": 377,
   "metadata": {},
   "outputs": [
    {
     "data": {
      "text/plain": [
       "[<matplotlib.lines.Line2D at 0x18ed601ca08>]"
      ]
     },
     "execution_count": 377,
     "metadata": {},
     "output_type": "execute_result"
    },
    {
     "data": {
      "image/png": "[encoded data removed]",
      "text/plain": [
       "<Figure size 432x288 with 1 Axes>"
      ]
     },
     "metadata": {
      "needs_background": "light"
     },
     "output_type": "display_data"
    }
   ],
   "source": [
    "plt.figure()\n",
    "plt.title('The optimal number of features(SVC)', fontweight='bold')\n",
    "plt.xlabel('Number of Features')\n",
    "plt.ylabel('fscore',)\n",
    "plt.plot(feature_list, f_scores_SVM)"
   ]
  },
  {
   "cell_type": "code",
   "execution_count": 378,
   "metadata": {},
   "outputs": [
    {
     "data": {
      "text/plain": [
       "[<matplotlib.lines.Line2D at 0x18ed69ff208>]"
      ]
     },
     "execution_count": 378,
     "metadata": {},
     "output_type": "execute_result"
    },
    {
     "data": {
      "image/png": "[encoded data removed]",
      "text/plain": [
       "<Figure size 432x288 with 1 Axes>"
      ]
     },
     "metadata": {
      "needs_background": "light"
     },
     "output_type": "display_data"
    }
   ],
   "source": [
    "plt.figure()\n",
    "plt.title('The optimal number of features(MLP)', fontweight='bold')\n",
    "plt.xlabel('Number of Features')\n",
    "plt.ylabel('fscore',)\n",
    "plt.plot(feature_list, f_scores_MLP)"
   ]
  },
  {
   "cell_type": "markdown",
   "metadata": {},
   "source": [
    "# Nalepsza ilość dla każdego"
   ]
  },
  {
   "cell_type": "code",
   "execution_count": 379,
   "metadata": {},
   "outputs": [],
   "source": [
    "# Przygotowanie zbiorów dla kazdego klasyfikatora"
   ]
  },
  {
   "cell_type": "markdown",
   "metadata": {},
   "source": [
    "# Ensamble"
   ]
  },
  {
   "cell_type": "code",
   "execution_count": null,
   "metadata": {},
   "outputs": [],
   "source": [
    "from sklearn.ensemble import BaggingClassifier\n",
    "\n",
    "f_scores_NB = []\n",
    "f_scores_SVM = []\n",
    "f_scores_MLP = []\n",
    "\n",
    "best_model_NB_Bag = None\n",
    "best_model_SVM_Bag = None\n",
    "best_model_MLP_Bag = None\n",
    "best_model_NB_Bag_name = None\n",
    "best_model_SVM_Bag_name = None\n",
    "best_model_MLP_Bag_name = None\n",
    "\n",
    "models_list =  range(2,20)\n",
    "\n",
    "for num_of_models in models_list:\n",
    "\n",
    "    model_NB = BaggingClassifier(base_estimator=best_model_NB, n_estimators=num_of_models)\n",
    "    name = 'Bagging_' + str(num_of_models) + '_' + best_model_NB_name\n",
    "    accuracyNB, precisionNB, recallNB, fscoreNB, cmNB = calculateStats(model_NB, name, best_data_NB)\n",
    "    f_scores_NB.append(fscoreNB)\n",
    "    if fscoreNB >= max(f_scores_NB):\n",
    "        best_model_NB_Bag = modelNB\n",
    "        best_model_NB_Bag_name = name\n",
    "    \n",
    "    model_SVM = BaggingClassifier(base_estimator=best_model_SVM, n_estimators=num_of_models)\n",
    "    name = 'Bagging_' + str(num_of_models) + '_' + best_model_SVM_name\n",
    "    accuracySVM, precisionSVM, recallSVM, fscoreSVM, cmSVM = calculateStats(model_SVM, name, best_data_SVM)\n",
    "    f_scores_SVM.append(fscoreSVM)\n",
    "    if fscoreSVM >= max(f_scores_SVM):\n",
    "        best_model_SVM_Bag = modelSVM\n",
    "        best_model_SVM_Bag_name = name\n",
    "    \n",
    "    model_MLP = BaggingClassifier(base_estimator=best_model_MLP, n_estimators=num_of_models)\n",
    "    name = 'Bagging_' + str(num_of_models) + '_' + best_model_MLP_name\n",
    "    accuracyMLP, precisionMLP, recallMLP, fscoreMLP, cmMLP = calculateStats(model_MLP, name, best_data_MLP)\n",
    "    f_scores_MLP.append(fscoreMLP)\n",
    "    if fscoreMLP >= max(f_scores_MLP):\n",
    "        best_model_MLP_Bag = modelMLP\n",
    "        best_model_MLP_Bag_name = name\n",
    "    "
   ]
  },
  {
   "cell_type": "code",
   "execution_count": null,
   "metadata": {},
   "outputs": [],
   "source": [
    "plt.figure()\n",
    "plt.title('The optimal number of models(MultinomialNB) for Bagging', fontweight='bold')\n",
    "plt.xlabel('Number of models')\n",
    "plt.ylabel('fscore',)\n",
    "plt.plot(models_list, f_scores_NB)"
   ]
  },
  {
   "cell_type": "code",
   "execution_count": null,
   "metadata": {},
   "outputs": [],
   "source": [
    "plt.figure()\n",
    "plt.title('The optimal number of models(SVC) for Bagging', fontweight='bold')\n",
    "plt.xlabel('Number of models')\n",
    "plt.ylabel('fscore',)\n",
    "plt.plot(models_list, f_scores_SVM)"
   ]
  },
  {
   "cell_type": "code",
   "execution_count": null,
   "metadata": {},
   "outputs": [],
   "source": [
    "plt.figure()\n",
    "plt.title('The optimal number of models(MLP) for Bagging', fontweight='bold')\n",
    "plt.xlabel('Number of models')\n",
    "plt.ylabel('fscore',)\n",
    "plt.plot(models_list, f_scores_MLP)"
   ]
  },
  {
   "cell_type": "code",
   "execution_count": null,
   "metadata": {},
   "outputs": [],
   "source": [
    "do_the_thing(model=best_model_NB_Bag, name=best_model_NB_Bag_name, data=best_data_NB)"
   ]
  },
  {
   "cell_type": "code",
   "execution_count": null,
   "metadata": {},
   "outputs": [],
   "source": [
    "do_the_thing(model=best_model_SVM_Bag, name=best_model_SVM_Bag_name, data=best_data_SVM)"
   ]
  },
  {
   "cell_type": "code",
   "execution_count": null,
   "metadata": {},
   "outputs": [],
   "source": [
    "do_the_thing(model=best_model_MLP_Bag, name=best_model_MLP_Bag_name, data=best_data_MLP)"
   ]
  },
  {
   "cell_type": "code",
   "execution_count": null,
   "metadata": {},
   "outputs": [],
   "source": [
    "from sklearn.ensemble import VotingClassifier\n",
    "\n",
    "# best_model_NB = None\n",
    "# best_model_SVM = None\n",
    "# best_model_MLP = None\n",
    "\n",
    "f_scores_NB = []\n",
    "f_scores_SVM = []\n",
    "f_scores_MLP = []\n",
    "\n",
    "best_model_NB_Vote, best_model_SVM_Vote, best_model_MLP_Vote = None, None, None\n",
    "best_model_NB_Vote_name, best_model_NB_Vote_name, best_model_NB_Vote_name = None, None, None\n",
    "\n",
    "names = []\n",
    "all_fscores = []\n",
    "\n",
    "type_of_votes =  ['soft', 'hard']\n",
    "\n",
    "for type_of_vote in type_of_votes:\n",
    "    \n",
    "    model_NB = VotingClassifier(estimators=[(best_model_NB_name, best_model_NB), (best_model_SVM_name, best_model_SVM), (best_model_MLP_name, best_model_MLP)], voting=type_of_vote)\n",
    "    name_NB = 'VotingClassifier_NB_data_' + str(type_of_vote)\n",
    "    names.append(name_NB)\n",
    "    accuracyNB, precisionNB, recallNB, fscoreNB, cmNB = calculateStats(model, name, best_data_NB)\n",
    "    all_fscores.append(fscoreNB)\n",
    "    f_scores_NB.append(fscoreNB)\n",
    "    if fscoreNB >= max(f_scores_NB):\n",
    "        best_model_NB_Vote = modelNB\n",
    "        best_model_NB_Vote_name = name_NB\n",
    "\n",
    "    model_SVM = VotingClassifier(estimators=[(best_model_NB_name, best_model_NB), (best_model_SVM_name, best_model_SVM), (best_model_MLP_name, best_model_MLP)], voting=type_of_vote)\n",
    "    name_SVM = 'VotingClassifier_SVM_data_' + str(type_of_vote)\n",
    "    names.append(name_SVM)\n",
    "    accuracySVM, precisionSVM, recallSVM, fscoreSVM, cmSVM = calculateStats(model, name, best_data_SVM)\n",
    "    all_fscores.append(fscoreSVM)\n",
    "    f_scores_SVM.append(fscoreSVM)\n",
    "    if fscoreSVM >= max(f_scores_SVM):\n",
    "        best_model_SVM_Vote = modelSVM\n",
    "        best_model_SVM_Vote_name = name_SVM\n",
    "\n",
    "    model_MLP = VotingClassifier(estimators=[(best_model_NB_name, best_model_NB), (best_model_SVM_name, best_model_SVM), (best_model_MLP_name, best_model_MLP)], voting=type_of_vote)\n",
    "    name_MLP = 'VotingClassifier_MLP_data_' + str(type_of_vote)\n",
    "    names.append(name_MLP)\n",
    "    accuracyMLP, precisionMLP, recallMLP, fscoreMLP, cmMLP = calculateStats(model, name, best_data_MLP)\n",
    "    all_fscores.append(fscoreMLP)\n",
    "    f_scores_MLP.append(fscoreMLP)\n",
    "    if fscoreMLP >= max(f_scores_MLP):\n",
    "        best_model_MLP_Vote = modelMLP\n",
    "        best_model_MLP_Vote_name = name_MLP\n",
    "    "
   ]
  },
  {
   "cell_type": "code",
   "execution_count": null,
   "metadata": {},
   "outputs": [],
   "source": [
    "fig = plt.figure()\n",
    "\n",
    "X = names\n",
    "Y = all_fscores\n",
    "\n",
    "plt.barh(X, Y, alpha=0.5)\n",
    "plt.axvline(x=.97, color='r')\n",
    "plt.xlabel('Wartość f-score')\n",
    "plt.title('F-sscore klasyfikatorów')\n",
    "plt.xlim(0.95, 1.0)"
   ]
  },
  {
   "cell_type": "code",
   "execution_count": null,
   "metadata": {},
   "outputs": [],
   "source": [
    "# teraz najelpszy model z votu i tyle, potem sprawko"
   ]
  },
  {
   "cell_type": "code",
   "execution_count": null,
   "metadata": {},
   "outputs": [],
   "source": []
  }
 ],
 "metadata": {
  "kernelspec": {
   "display_name": "Python 3",
   "language": "python",
   "name": "python3"
  },
  "language_info": {
   "codemirror_mode": {
    "name": "ipython",
    "version": 3
   },
   "file_extension": ".py",
   "mimetype": "text/x-python",
   "name": "python",
   "nbconvert_exporter": "python",
   "pygments_lexer": "ipython3",
   "version": "3.7.4"
  }
 },
 "nbformat": 4,
 "nbformat_minor": 4
}
