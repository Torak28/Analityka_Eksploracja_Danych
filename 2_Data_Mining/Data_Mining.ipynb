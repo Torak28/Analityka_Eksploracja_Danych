{
 "cells": [
  {
   "cell_type": "code",
   "execution_count": 112,
   "metadata": {},
   "outputs": [],
   "source": [
    "import numpy as np\n",
    "import pandas as pd\n",
    "from sklearn.datasets import load_iris"
   ]
  },
  {
   "cell_type": "code",
   "execution_count": 113,
   "metadata": {},
   "outputs": [],
   "source": [
    "datContent = pd.read_csv(\"data//spam.dat\")\n",
    "# iris = load_iris()\n",
    "# datContent = pd.DataFrame(data= np.c_[iris['data'], iris['target']],\n",
    "#                         columns= iris['feature_names'] + ['target'])\n",
    "datContent = datContent.rename(index=str, columns={\"target\": \"K\"})"
   ]
  },
  {
   "cell_type": "code",
   "execution_count": 114,
   "metadata": {},
   "outputs": [
    {
     "data": {
      "text/html": [
       "<div>\n",
       "<style scoped>\n",
       "    .dataframe tbody tr th:only-of-type {\n",
       "        vertical-align: middle;\n",
       "    }\n",
       "\n",
       "    .dataframe tbody tr th {\n",
       "        vertical-align: top;\n",
       "    }\n",
       "\n",
       "    .dataframe thead th {\n",
       "        text-align: right;\n",
       "    }\n",
       "</style>\n",
       "<table border=\"1\" class=\"dataframe\">\n",
       "  <thead>\n",
       "    <tr style=\"text-align: right;\">\n",
       "      <th></th>\n",
       "      <th>ACT_NOW</th>\n",
       "      <th>ADDRESSES_ON_CD</th>\n",
       "      <th>ADULT_SITE</th>\n",
       "      <th>ADVERT_CODE</th>\n",
       "      <th>ADVERT_CODE2</th>\n",
       "      <th>ALL_CAPS_HEADER</th>\n",
       "      <th>ALL_CAP_PORN</th>\n",
       "      <th>ALL_NATURAL</th>\n",
       "      <th>AMATEUR_PORN</th>\n",
       "      <th>AMAZING</th>\n",
       "      <th>...</th>\n",
       "      <th>X_ENC_PRESENT</th>\n",
       "      <th>X_LIBRARY</th>\n",
       "      <th>X_LIST_UNSUBSCRIBE</th>\n",
       "      <th>X_MSMAIL_PRIORITY_HIGH</th>\n",
       "      <th>X_PRECEDENCE_REF</th>\n",
       "      <th>X_PRIORITY_HIGH</th>\n",
       "      <th>X_STORMPOST_TO</th>\n",
       "      <th>X_X_PRESENT</th>\n",
       "      <th>YOUR_INCOME</th>\n",
       "      <th>K</th>\n",
       "    </tr>\n",
       "  </thead>\n",
       "  <tbody>\n",
       "    <tr>\n",
       "      <th>0</th>\n",
       "      <td>0</td>\n",
       "      <td>0</td>\n",
       "      <td>0</td>\n",
       "      <td>0</td>\n",
       "      <td>0</td>\n",
       "      <td>0</td>\n",
       "      <td>0</td>\n",
       "      <td>0</td>\n",
       "      <td>0</td>\n",
       "      <td>0</td>\n",
       "      <td>...</td>\n",
       "      <td>0</td>\n",
       "      <td>0</td>\n",
       "      <td>0</td>\n",
       "      <td>0</td>\n",
       "      <td>0</td>\n",
       "      <td>0</td>\n",
       "      <td>0</td>\n",
       "      <td>0</td>\n",
       "      <td>0</td>\n",
       "      <td>yes</td>\n",
       "    </tr>\n",
       "    <tr>\n",
       "      <th>1</th>\n",
       "      <td>0</td>\n",
       "      <td>0</td>\n",
       "      <td>0</td>\n",
       "      <td>0</td>\n",
       "      <td>0</td>\n",
       "      <td>0</td>\n",
       "      <td>0</td>\n",
       "      <td>0</td>\n",
       "      <td>0</td>\n",
       "      <td>0</td>\n",
       "      <td>...</td>\n",
       "      <td>0</td>\n",
       "      <td>0</td>\n",
       "      <td>0</td>\n",
       "      <td>0</td>\n",
       "      <td>0</td>\n",
       "      <td>0</td>\n",
       "      <td>0</td>\n",
       "      <td>0</td>\n",
       "      <td>0</td>\n",
       "      <td>no</td>\n",
       "    </tr>\n",
       "    <tr>\n",
       "      <th>2</th>\n",
       "      <td>0</td>\n",
       "      <td>0</td>\n",
       "      <td>0</td>\n",
       "      <td>0</td>\n",
       "      <td>0</td>\n",
       "      <td>0</td>\n",
       "      <td>0</td>\n",
       "      <td>0</td>\n",
       "      <td>0</td>\n",
       "      <td>0</td>\n",
       "      <td>...</td>\n",
       "      <td>0</td>\n",
       "      <td>0</td>\n",
       "      <td>0</td>\n",
       "      <td>0</td>\n",
       "      <td>0</td>\n",
       "      <td>0</td>\n",
       "      <td>0</td>\n",
       "      <td>0</td>\n",
       "      <td>0</td>\n",
       "      <td>yes</td>\n",
       "    </tr>\n",
       "    <tr>\n",
       "      <th>3</th>\n",
       "      <td>0</td>\n",
       "      <td>0</td>\n",
       "      <td>0</td>\n",
       "      <td>0</td>\n",
       "      <td>0</td>\n",
       "      <td>0</td>\n",
       "      <td>0</td>\n",
       "      <td>0</td>\n",
       "      <td>0</td>\n",
       "      <td>0</td>\n",
       "      <td>...</td>\n",
       "      <td>0</td>\n",
       "      <td>0</td>\n",
       "      <td>0</td>\n",
       "      <td>0</td>\n",
       "      <td>0</td>\n",
       "      <td>0</td>\n",
       "      <td>0</td>\n",
       "      <td>0</td>\n",
       "      <td>0</td>\n",
       "      <td>no</td>\n",
       "    </tr>\n",
       "    <tr>\n",
       "      <th>4</th>\n",
       "      <td>0</td>\n",
       "      <td>0</td>\n",
       "      <td>0</td>\n",
       "      <td>0</td>\n",
       "      <td>0</td>\n",
       "      <td>0</td>\n",
       "      <td>0</td>\n",
       "      <td>0</td>\n",
       "      <td>0</td>\n",
       "      <td>0</td>\n",
       "      <td>...</td>\n",
       "      <td>0</td>\n",
       "      <td>0</td>\n",
       "      <td>0</td>\n",
       "      <td>0</td>\n",
       "      <td>0</td>\n",
       "      <td>0</td>\n",
       "      <td>0</td>\n",
       "      <td>0</td>\n",
       "      <td>0</td>\n",
       "      <td>yes</td>\n",
       "    </tr>\n",
       "  </tbody>\n",
       "</table>\n",
       "<p>5 rows × 463 columns</p>\n",
       "</div>"
      ],
      "text/plain": [
       "   ACT_NOW  ADDRESSES_ON_CD  ADULT_SITE  ADVERT_CODE  ADVERT_CODE2  \\\n",
       "0        0                0           0            0             0   \n",
       "1        0                0           0            0             0   \n",
       "2        0                0           0            0             0   \n",
       "3        0                0           0            0             0   \n",
       "4        0                0           0            0             0   \n",
       "\n",
       "   ALL_CAPS_HEADER  ALL_CAP_PORN  ALL_NATURAL  AMATEUR_PORN  AMAZING  ...  \\\n",
       "0                0             0            0             0        0  ...   \n",
       "1                0             0            0             0        0  ...   \n",
       "2                0             0            0             0        0  ...   \n",
       "3                0             0            0             0        0  ...   \n",
       "4                0             0            0             0        0  ...   \n",
       "\n",
       "   X_ENC_PRESENT  X_LIBRARY  X_LIST_UNSUBSCRIBE  X_MSMAIL_PRIORITY_HIGH  \\\n",
       "0              0          0                   0                       0   \n",
       "1              0          0                   0                       0   \n",
       "2              0          0                   0                       0   \n",
       "3              0          0                   0                       0   \n",
       "4              0          0                   0                       0   \n",
       "\n",
       "   X_PRECEDENCE_REF  X_PRIORITY_HIGH  X_STORMPOST_TO  X_X_PRESENT  \\\n",
       "0                 0                0               0            0   \n",
       "1                 0                0               0            0   \n",
       "2                 0                0               0            0   \n",
       "3                 0                0               0            0   \n",
       "4                 0                0               0            0   \n",
       "\n",
       "   YOUR_INCOME    K  \n",
       "0            0  yes  \n",
       "1            0   no  \n",
       "2            0  yes  \n",
       "3            0   no  \n",
       "4            0  yes  \n",
       "\n",
       "[5 rows x 463 columns]"
      ]
     },
     "execution_count": 114,
     "metadata": {},
     "output_type": "execute_result"
    }
   ],
   "source": [
    "datContent.head()"
   ]
  },
  {
   "cell_type": "code",
   "execution_count": 115,
   "metadata": {},
   "outputs": [
    {
     "data": {
      "text/plain": [
       "(4789, 463)"
      ]
     },
     "execution_count": 115,
     "metadata": {},
     "output_type": "execute_result"
    }
   ],
   "source": [
    "datContent.shape"
   ]
  },
  {
   "cell_type": "code",
   "execution_count": 116,
   "metadata": {},
   "outputs": [],
   "source": [
    "X = datContent.drop('K', axis = 1)"
   ]
  },
  {
   "cell_type": "code",
   "execution_count": 117,
   "metadata": {},
   "outputs": [],
   "source": [
    "y = datContent.K"
   ]
  },
  {
   "cell_type": "code",
   "execution_count": 118,
   "metadata": {},
   "outputs": [],
   "source": [
    "# from sklearn.feature_selection import SelectKBest\n",
    "# from sklearn.feature_selection import chi2, mutual_info_classif\n",
    "\n",
    "# test = SelectKBest(score_func=chi2, k=2)\n",
    "# test.fit(X, y)\n",
    "\n",
    "# scores = []\n",
    "# num_features = len(X.columns)\n",
    "# for i in range(num_features):\n",
    "#     score = test.scores_[i]\n",
    "#     scores.append((score, X.columns[i]))\n",
    "\n",
    "# sortedFeatures = sorted(scores, reverse = True)\n",
    "# sortedFeatures = list(map(lambda x: x[1], sortedFeatures))"
   ]
  },
  {
   "cell_type": "code",
   "execution_count": 119,
   "metadata": {},
   "outputs": [],
   "source": [
    "# print (f'Features Ranking {sortedFeatures}')\n"
   ]
  },
  {
   "cell_type": "code",
   "execution_count": 120,
   "metadata": {},
   "outputs": [],
   "source": [
    "# import seaborn as sns\n",
    "\n",
    "# sns.set()\n",
    "# sns.set_palette(sns.color_palette(\"hls\", len(sortedFeatures)))\n",
    "# sns.pairplot(datContent, vars=X.columns, hue='K', diag_kind='hist', dropna=True, kind='scatter')"
   ]
  },
  {
   "cell_type": "code",
   "execution_count": 121,
   "metadata": {},
   "outputs": [],
   "source": [
    "from sklearn.metrics import accuracy_score, precision_score, recall_score, f1_score\n",
    "\n",
    "def countStats(_y_true, _y_pred):\n",
    "    accuracy = accuracy_score(_y_true, _y_pred, normalize=True)\n",
    "    precision = precision_score(_y_true, _y_pred, average='weighted')\n",
    "    recall = recall_score(_y_true, _y_pred, average='weighted')\n",
    "    fscore = f1_score(_y_true, _y_pred, average='weighted')\n",
    "    \n",
    "    return accuracy, precision, recall, fscore"
   ]
  },
  {
   "cell_type": "code",
   "execution_count": 131,
   "metadata": {},
   "outputs": [],
   "source": [
    "from sklearn.model_selection import KFold\n",
    "from sklearn import svm\n",
    "from sklearn.metrics import confusion_matrix\n",
    "\n",
    "def do_the_thing(model, name):\n",
    "    \n",
    "    print(f'{name}')\n",
    "    \n",
    "    ConfusionMatrixY = []\n",
    "    ConfusionMatrixYpred = []\n",
    "\n",
    "    tAccuracy = 0\n",
    "    tPrecision = 0\n",
    "    tRecall = 0\n",
    "    tFScore = 0\n",
    "\n",
    "    for i in range(0, 5):\n",
    "        kf = KFold(n_splits = 2, shuffle = True)\n",
    "        result = next(kf.split(datContent), None)\n",
    "\n",
    "        train1 = datContent.iloc[result[0]]\n",
    "        test1 =  datContent.iloc[result[1]]\n",
    "        train2 = datContent.iloc[result[1]]\n",
    "        test2 =  datContent.iloc[result[0]]\n",
    "\n",
    "        # fold 1\n",
    "        clf = model\n",
    "        Xtrain = train1.drop('K', axis = 1)\n",
    "        Ytrain = train1.K\n",
    "        clf.fit(Xtrain, Ytrain)\n",
    "\n",
    "        Xtest = test1.drop('K', axis = 1)\n",
    "        Ytest = test1.K\n",
    "        YPred = clf.predict(Xtest)\n",
    "\n",
    "        ConfusionMatrixY = Ytest.tolist()\n",
    "        ConfusionMatrixYpred = YPred.tolist()\n",
    "\n",
    "        accuracy, precision, recall, fscore = countStats(Ytest, YPred)\n",
    "        tAccuracy += accuracy\n",
    "        tPrecision += precision\n",
    "        tRecall += recall\n",
    "        tFScore += fscore\n",
    "\n",
    "        #fold 2\n",
    "        clf = model\n",
    "        Xtrain = train1.drop('K', axis = 1)\n",
    "        Ytrain = train1.K\n",
    "        clf.fit(Xtrain, Ytrain)\n",
    "\n",
    "        Xtest = test1.drop('K', axis = 1)\n",
    "        Ytest = test1.K\n",
    "        YPred = clf.predict(Xtest)\n",
    "\n",
    "        ConfusionMatrixY = ConfusionMatrixY + Ytest.tolist()\n",
    "        ConfusionMatrixYpred = ConfusionMatrixYpred + YPred.tolist()\n",
    "\n",
    "        accuracy, precision, recall, fscore = countStats(Ytest, YPred)\n",
    "        tAccuracy += accuracy\n",
    "        tPrecision += precision\n",
    "        tRecall += recall\n",
    "        tFScore += fscore\n",
    "\n",
    "    cm = confusion_matrix(ConfusionMatrixY, ConfusionMatrixYpred)\n",
    "    print(f'Accuracy: {tAccuracy/10}\\nPrecision: {tPrecision/10}\\nRecall: {tRecall/10}\\nF-score: {tFScore/10}')\n",
    "\n",
    "    print(f'Macierz konfuzji:')\n",
    "    print(f'{cm}')\n",
    "\n",
    "    cm = cm.astype('float') / cm.sum(axis=1)[:, np.newaxis]\n",
    "    df_cm = pd.DataFrame(cm)\n",
    "    sns.heatmap(df_cm, cmap=\"Blues\", annot=True)"
   ]
  },
  {
   "cell_type": "code",
   "execution_count": 133,
   "metadata": {},
   "outputs": [
    {
     "name": "stdout",
     "output_type": "stream",
     "text": [
      "SVM_Linear\n",
      "Accuracy: 0.9792066805845512\n",
      "Precision: 0.9794786937474111\n",
      "Recall: 0.9792066805845512\n",
      "F-score: 0.9791329877443878\n",
      "Macierz konfuzji:\n",
      "[[2920   10]\n",
      " [  94 1766]]\n"
     ]
    },
    {
     "data": {
      "image/png": "[encoded data removed]",
      "text/plain": [
       "<Figure size 432x288 with 2 Axes>"
      ]
     },
     "metadata": {},
     "output_type": "display_data"
    }
   ],
   "source": [
    "do_the_thing(model=svm.SVC(kernel='linear'), name='SVM_Linear')"
   ]
  },
  {
   "cell_type": "code",
   "execution_count": 134,
   "metadata": {},
   "outputs": [
    {
     "name": "stdout",
     "output_type": "stream",
     "text": [
      "SVM_Rbf\n",
      "Accuracy: 0.98321503131524\n",
      "Precision: 0.9833257721451405\n",
      "Recall: 0.98321503131524\n",
      "F-score: 0.9831721159047492\n",
      "Macierz konfuzji:\n",
      "[[2944   16]\n",
      " [  66 1764]]\n"
     ]
    },
    {
     "data": {
      "image/png": "[encoded data removed]",
      "text/plain": [
       "<Figure size 432x288 with 2 Axes>"
      ]
     },
     "metadata": {},
     "output_type": "display_data"
    }
   ],
   "source": [
    "do_the_thing(model=svm.SVC(kernel='rbf'), name='SVM_Rbf')"
   ]
  },
  {
   "cell_type": "code",
   "execution_count": 135,
   "metadata": {},
   "outputs": [
    {
     "name": "stdout",
     "output_type": "stream",
     "text": [
      "SVM_Poly\n",
      "Accuracy: 0.9531524008350731\n",
      "Precision: 0.9562506185884556\n",
      "Recall: 0.9531524008350731\n",
      "F-score: 0.9525133381553763\n",
      "Macierz konfuzji:\n",
      "[[2922    0]\n",
      " [ 204 1664]]\n"
     ]
    },
    {
     "data": {
      "image/png": "[encoded data removed]",
      "text/plain": [
       "<Figure size 432x288 with 2 Axes>"
      ]
     },
     "metadata": {},
     "output_type": "display_data"
    }
   ],
   "source": [
    "do_the_thing(model=svm.SVC(kernel='poly'), name='SVM_Poly')"
   ]
  },
  {
   "cell_type": "code",
   "execution_count": 137,
   "metadata": {},
   "outputs": [
    {
     "name": "stdout",
     "output_type": "stream",
     "text": [
      "SVM_Rbf_auto\n",
      "Accuracy: 0.9578288100208768\n",
      "Precision: 0.9601554175490907\n",
      "Recall: 0.9578288100208768\n",
      "F-score: 0.9573256930491454\n",
      "Macierz konfuzji:\n",
      "[[2922    4]\n",
      " [ 194 1670]]\n"
     ]
    },
    {
     "data": {
      "image/png": "[encoded data removed]",
      "text/plain": [
       "<Figure size 432x288 with 2 Axes>"
      ]
     },
     "metadata": {},
     "output_type": "display_data"
    }
   ],
   "source": [
    "do_the_thing(model=svm.SVC(kernel='rbf', gamma='auto'), name='SVM_Rbf_auto')"
   ]
  },
  {
   "cell_type": "code",
   "execution_count": 139,
   "metadata": {},
   "outputs": [
    {
     "name": "stdout",
     "output_type": "stream",
     "text": [
      "KNN\n",
      "Accuracy: 0.9179958246346555\n",
      "Precision: 0.927266487474874\n",
      "Recall: 0.9179958246346555\n",
      "F-score: 0.9155802565111143\n",
      "Macierz konfuzji:\n",
      "[[2956    4]\n",
      " [ 330 1500]]\n"
     ]
    },
    {
     "data": {
      "image/png": "[encoded data removed]",
      "text/plain": [
       "<Figure size 432x288 with 2 Axes>"
      ]
     },
     "metadata": {},
     "output_type": "display_data"
    }
   ],
   "source": [
    "from sklearn.neighbors import KNeighborsClassifier\n",
    "\n",
    "do_the_thing(KNeighborsClassifier(n_neighbors=5, metric='euclidean'), name='KNN')"
   ]
  },
  {
   "cell_type": "code",
   "execution_count": 142,
   "metadata": {},
   "outputs": [
    {
     "name": "stdout",
     "output_type": "stream",
     "text": [
      "Decision Tree\n",
      "Accuracy: 0.9043841336116911\n",
      "Precision: 0.905285986817802\n",
      "Recall: 0.9043841336116911\n",
      "F-score: 0.9046806266250182\n",
      "Macierz konfuzji:\n",
      "[[2722  266]\n",
      " [ 200 1602]]\n"
     ]
    },
    {
     "data": {
      "image/png": "[encoded data removed]",
      "text/plain": [
       "<Figure size 432x288 with 2 Axes>"
      ]
     },
     "metadata": {},
     "output_type": "display_data"
    }
   ],
   "source": [
    "from sklearn.tree import DecisionTreeClassifier\n",
    "\n",
    "do_the_thing(DecisionTreeClassifier(max_leaf_nodes=3, random_state=0), name='Decision Tree')"
   ]
  }
 ],
 "metadata": {
  "kernelspec": {
   "display_name": "Python 3",
   "language": "python",
   "name": "python3"
  },
  "language_info": {
   "codemirror_mode": {
    "name": "ipython",
    "version": 3
   },
   "file_extension": ".py",
   "mimetype": "text/x-python",
   "name": "python",
   "nbconvert_exporter": "python",
   "pygments_lexer": "ipython3",
   "version": "3.8.1"
  }
 },
 "nbformat": 4,
 "nbformat_minor": 4
}
