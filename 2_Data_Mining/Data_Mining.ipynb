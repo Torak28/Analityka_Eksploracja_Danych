{
 "cells": [
  {
   "cell_type": "markdown",
   "metadata": {},
   "source": [
    "# Przygotowanie Danych"
   ]
  },
  {
   "cell_type": "code",
   "execution_count": 1,
   "metadata": {},
   "outputs": [],
   "source": [
    "import numpy as np\n",
    "import pandas as pd\n",
    "import matplotlib.pyplot as plt\n",
    "import seaborn as sns"
   ]
  },
  {
   "cell_type": "code",
   "execution_count": 2,
   "metadata": {},
   "outputs": [],
   "source": [
    "from sklearn.datasets import load_iris\n",
    "\n",
    "datContent = pd.read_csv(\"data//spam.dat\")\n",
    "# iris = load_iris()\n",
    "# datContent = pd.DataFrame(data= np.c_[iris['data'], iris['target']],\n",
    "#                         columns= iris['feature_names'] + ['target'])\n",
    "datContent = datContent.rename(index=str, columns={\"target\": \"K\"})"
   ]
  },
  {
   "cell_type": "code",
   "execution_count": 3,
   "metadata": {},
   "outputs": [
    {
     "data": {
      "text/html": [
       "<div>\n",
       "<style scoped>\n",
       "    .dataframe tbody tr th:only-of-type {\n",
       "        vertical-align: middle;\n",
       "    }\n",
       "\n",
       "    .dataframe tbody tr th {\n",
       "        vertical-align: top;\n",
       "    }\n",
       "\n",
       "    .dataframe thead th {\n",
       "        text-align: right;\n",
       "    }\n",
       "</style>\n",
       "<table border=\"1\" class=\"dataframe\">\n",
       "  <thead>\n",
       "    <tr style=\"text-align: right;\">\n",
       "      <th></th>\n",
       "      <th>ACT_NOW</th>\n",
       "      <th>ADDRESSES_ON_CD</th>\n",
       "      <th>ADULT_SITE</th>\n",
       "      <th>ADVERT_CODE</th>\n",
       "      <th>ADVERT_CODE2</th>\n",
       "      <th>ALL_CAPS_HEADER</th>\n",
       "      <th>ALL_CAP_PORN</th>\n",
       "      <th>ALL_NATURAL</th>\n",
       "      <th>AMATEUR_PORN</th>\n",
       "      <th>AMAZING</th>\n",
       "      <th>...</th>\n",
       "      <th>X_ENC_PRESENT</th>\n",
       "      <th>X_LIBRARY</th>\n",
       "      <th>X_LIST_UNSUBSCRIBE</th>\n",
       "      <th>X_MSMAIL_PRIORITY_HIGH</th>\n",
       "      <th>X_PRECEDENCE_REF</th>\n",
       "      <th>X_PRIORITY_HIGH</th>\n",
       "      <th>X_STORMPOST_TO</th>\n",
       "      <th>X_X_PRESENT</th>\n",
       "      <th>YOUR_INCOME</th>\n",
       "      <th>K</th>\n",
       "    </tr>\n",
       "  </thead>\n",
       "  <tbody>\n",
       "    <tr>\n",
       "      <th>0</th>\n",
       "      <td>0</td>\n",
       "      <td>0</td>\n",
       "      <td>0</td>\n",
       "      <td>0</td>\n",
       "      <td>0</td>\n",
       "      <td>0</td>\n",
       "      <td>0</td>\n",
       "      <td>0</td>\n",
       "      <td>0</td>\n",
       "      <td>0</td>\n",
       "      <td>...</td>\n",
       "      <td>0</td>\n",
       "      <td>0</td>\n",
       "      <td>0</td>\n",
       "      <td>0</td>\n",
       "      <td>0</td>\n",
       "      <td>0</td>\n",
       "      <td>0</td>\n",
       "      <td>0</td>\n",
       "      <td>0</td>\n",
       "      <td>yes</td>\n",
       "    </tr>\n",
       "    <tr>\n",
       "      <th>1</th>\n",
       "      <td>0</td>\n",
       "      <td>0</td>\n",
       "      <td>0</td>\n",
       "      <td>0</td>\n",
       "      <td>0</td>\n",
       "      <td>0</td>\n",
       "      <td>0</td>\n",
       "      <td>0</td>\n",
       "      <td>0</td>\n",
       "      <td>0</td>\n",
       "      <td>...</td>\n",
       "      <td>0</td>\n",
       "      <td>0</td>\n",
       "      <td>0</td>\n",
       "      <td>0</td>\n",
       "      <td>0</td>\n",
       "      <td>0</td>\n",
       "      <td>0</td>\n",
       "      <td>0</td>\n",
       "      <td>0</td>\n",
       "      <td>no</td>\n",
       "    </tr>\n",
       "    <tr>\n",
       "      <th>2</th>\n",
       "      <td>0</td>\n",
       "      <td>0</td>\n",
       "      <td>0</td>\n",
       "      <td>0</td>\n",
       "      <td>0</td>\n",
       "      <td>0</td>\n",
       "      <td>0</td>\n",
       "      <td>0</td>\n",
       "      <td>0</td>\n",
       "      <td>0</td>\n",
       "      <td>...</td>\n",
       "      <td>0</td>\n",
       "      <td>0</td>\n",
       "      <td>0</td>\n",
       "      <td>0</td>\n",
       "      <td>0</td>\n",
       "      <td>0</td>\n",
       "      <td>0</td>\n",
       "      <td>0</td>\n",
       "      <td>0</td>\n",
       "      <td>yes</td>\n",
       "    </tr>\n",
       "    <tr>\n",
       "      <th>3</th>\n",
       "      <td>0</td>\n",
       "      <td>0</td>\n",
       "      <td>0</td>\n",
       "      <td>0</td>\n",
       "      <td>0</td>\n",
       "      <td>0</td>\n",
       "      <td>0</td>\n",
       "      <td>0</td>\n",
       "      <td>0</td>\n",
       "      <td>0</td>\n",
       "      <td>...</td>\n",
       "      <td>0</td>\n",
       "      <td>0</td>\n",
       "      <td>0</td>\n",
       "      <td>0</td>\n",
       "      <td>0</td>\n",
       "      <td>0</td>\n",
       "      <td>0</td>\n",
       "      <td>0</td>\n",
       "      <td>0</td>\n",
       "      <td>no</td>\n",
       "    </tr>\n",
       "    <tr>\n",
       "      <th>4</th>\n",
       "      <td>0</td>\n",
       "      <td>0</td>\n",
       "      <td>0</td>\n",
       "      <td>0</td>\n",
       "      <td>0</td>\n",
       "      <td>0</td>\n",
       "      <td>0</td>\n",
       "      <td>0</td>\n",
       "      <td>0</td>\n",
       "      <td>0</td>\n",
       "      <td>...</td>\n",
       "      <td>0</td>\n",
       "      <td>0</td>\n",
       "      <td>0</td>\n",
       "      <td>0</td>\n",
       "      <td>0</td>\n",
       "      <td>0</td>\n",
       "      <td>0</td>\n",
       "      <td>0</td>\n",
       "      <td>0</td>\n",
       "      <td>yes</td>\n",
       "    </tr>\n",
       "  </tbody>\n",
       "</table>\n",
       "<p>5 rows × 463 columns</p>\n",
       "</div>"
      ],
      "text/plain": [
       "   ACT_NOW  ADDRESSES_ON_CD  ADULT_SITE  ADVERT_CODE  ADVERT_CODE2  \\\n",
       "0        0                0           0            0             0   \n",
       "1        0                0           0            0             0   \n",
       "2        0                0           0            0             0   \n",
       "3        0                0           0            0             0   \n",
       "4        0                0           0            0             0   \n",
       "\n",
       "   ALL_CAPS_HEADER  ALL_CAP_PORN  ALL_NATURAL  AMATEUR_PORN  AMAZING  ...  \\\n",
       "0                0             0            0             0        0  ...   \n",
       "1                0             0            0             0        0  ...   \n",
       "2                0             0            0             0        0  ...   \n",
       "3                0             0            0             0        0  ...   \n",
       "4                0             0            0             0        0  ...   \n",
       "\n",
       "   X_ENC_PRESENT  X_LIBRARY  X_LIST_UNSUBSCRIBE  X_MSMAIL_PRIORITY_HIGH  \\\n",
       "0              0          0                   0                       0   \n",
       "1              0          0                   0                       0   \n",
       "2              0          0                   0                       0   \n",
       "3              0          0                   0                       0   \n",
       "4              0          0                   0                       0   \n",
       "\n",
       "   X_PRECEDENCE_REF  X_PRIORITY_HIGH  X_STORMPOST_TO  X_X_PRESENT  \\\n",
       "0                 0                0               0            0   \n",
       "1                 0                0               0            0   \n",
       "2                 0                0               0            0   \n",
       "3                 0                0               0            0   \n",
       "4                 0                0               0            0   \n",
       "\n",
       "   YOUR_INCOME    K  \n",
       "0            0  yes  \n",
       "1            0   no  \n",
       "2            0  yes  \n",
       "3            0   no  \n",
       "4            0  yes  \n",
       "\n",
       "[5 rows x 463 columns]"
      ]
     },
     "execution_count": 3,
     "metadata": {},
     "output_type": "execute_result"
    }
   ],
   "source": [
    "datContent.head()"
   ]
  },
  {
   "cell_type": "code",
   "execution_count": 4,
   "metadata": {},
   "outputs": [
    {
     "data": {
      "text/plain": [
       "(4789, 463)"
      ]
     },
     "execution_count": 4,
     "metadata": {},
     "output_type": "execute_result"
    }
   ],
   "source": [
    "datContent.shape"
   ]
  },
  {
   "cell_type": "markdown",
   "metadata": {},
   "source": [
    "# Przegląd modeli"
   ]
  },
  {
   "cell_type": "code",
   "execution_count": 5,
   "metadata": {},
   "outputs": [],
   "source": [
    "from sklearn.metrics import accuracy_score, precision_score, recall_score, f1_score\n",
    "\n",
    "def countStats(_y_true, _y_pred):\n",
    "    accuracy = accuracy_score(_y_true, _y_pred, normalize=True)\n",
    "    precision = precision_score(_y_true, _y_pred, average='weighted')\n",
    "    recall = recall_score(_y_true, _y_pred, average='weighted')\n",
    "    fscore = f1_score(_y_true, _y_pred, average='weighted')\n",
    "    \n",
    "    return accuracy, precision, recall, fscore"
   ]
  },
  {
   "cell_type": "code",
   "execution_count": 26,
   "metadata": {},
   "outputs": [],
   "source": [
    "from sklearn.model_selection import KFold\n",
    "from sklearn import svm\n",
    "from sklearn.metrics import confusion_matrix\n",
    "\n",
    "def calculateStats(model, name, data):\n",
    "    \n",
    "    ConfusionMatrixY = []\n",
    "    ConfusionMatrixYpred = []\n",
    "\n",
    "    tAccuracy = 0\n",
    "    tPrecision = 0\n",
    "    tRecall = 0\n",
    "    tFScore = 0\n",
    "\n",
    "    for i in range(0, 5):\n",
    "        kf = KFold(n_splits = 2, shuffle = True)\n",
    "        result = next(kf.split(datContent), None)\n",
    "\n",
    "        train1 = datContent.iloc[result[0]]\n",
    "        test1 =  datContent.iloc[result[1]]\n",
    "        train2 = datContent.iloc[result[1]]\n",
    "        test2 =  datContent.iloc[result[0]]\n",
    "\n",
    "        # fold 1\n",
    "        clf = model\n",
    "        Xtrain = train1.drop('K', axis = 1)\n",
    "        Ytrain = train1.K\n",
    "        clf.fit(Xtrain, Ytrain)\n",
    "\n",
    "        Xtest = test1.drop('K', axis = 1)\n",
    "        Ytest = test1.K\n",
    "        YPred = clf.predict(Xtest)\n",
    "\n",
    "        ConfusionMatrixY = Ytest.tolist()\n",
    "        ConfusionMatrixYpred = YPred.tolist()\n",
    "\n",
    "        accuracy, precision, recall, fscore = countStats(Ytest, YPred)\n",
    "        tAccuracy += accuracy\n",
    "        tPrecision += precision\n",
    "        tRecall += recall\n",
    "        tFScore += fscore\n",
    "\n",
    "        #fold 2\n",
    "        clf = model\n",
    "        Xtrain = train1.drop('K', axis = 1)\n",
    "        Ytrain = train1.K\n",
    "        clf.fit(Xtrain, Ytrain)\n",
    "\n",
    "        Xtest = test1.drop('K', axis = 1)\n",
    "        Ytest = test1.K\n",
    "        YPred = clf.predict(Xtest)\n",
    "\n",
    "        ConfusionMatrixY = ConfusionMatrixY + Ytest.tolist()\n",
    "        ConfusionMatrixYpred = ConfusionMatrixYpred + YPred.tolist()\n",
    "\n",
    "        accuracy, precision, recall, fscore = countStats(Ytest, YPred)\n",
    "        tAccuracy += accuracy\n",
    "        tPrecision += precision\n",
    "        tRecall += recall\n",
    "        tFScore += fscore\n",
    "\n",
    "    cm = confusion_matrix(ConfusionMatrixY, ConfusionMatrixYpred)\n",
    "    return tAccuracy/10, tPrecision/10, tRecall/10, tFScore/10, cm"
   ]
  },
  {
   "cell_type": "code",
   "execution_count": 69,
   "metadata": {},
   "outputs": [],
   "source": [
    "def plot_cm(cm):\n",
    "    cm = cm.astype('float') / cm.sum(axis=1)[:, np.newaxis]\n",
    "    df_cm = pd.DataFrame(cm)\n",
    "    sns.heatmap(df_cm, cmap=\"Blues\", annot=True)\n",
    "    plt.ylabel('True Label')\n",
    "    plt.xlabel('Predicted Label')\n",
    "    plt.title('Macierz konfuzji')"
   ]
  },
  {
   "cell_type": "code",
   "execution_count": 70,
   "metadata": {},
   "outputs": [],
   "source": [
    "def do_the_thing(model, name, data):\n",
    "    accuracy, precision, recall, fscore, cm = calculateStats(model, name, data)\n",
    "    print(f'{name}:\\n\\nAccuracy: {accuracy}\\nPrecision: {precision}\\nRecall: {recall}\\nF-score: {fscore}')\n",
    "    print(f'\\nMacierz konfuzji:\\n\\n{cm}')\n",
    "    plot_cm(cm)"
   ]
  },
  {
   "cell_type": "code",
   "execution_count": 81,
   "metadata": {},
   "outputs": [
    {
     "name": "stdout",
     "output_type": "stream",
     "text": [
      "SVM:\n",
      "\n",
      "Accuracy: 0.9839665970772442\n",
      "Precision: 0.984155045623236\n",
      "Recall: 0.9839665970772442\n",
      "F-score: 0.9839204634948058\n",
      "\n",
      "Macierz konfuzji:\n",
      "\n",
      "[[2934   12]\n",
      " [  52 1792]]\n"
     ]
    },
    {
     "data": {
      "image/png": "[encoded data removed]",
      "text/plain": [
       "<Figure size 432x288 with 2 Axes>"
      ]
     },
     "metadata": {
      "needs_background": "light"
     },
     "output_type": "display_data"
    }
   ],
   "source": [
    "do_the_thing(model=svm.SVC(gamma='scale'), name='SVM', data=datContent)"
   ]
  },
  {
   "cell_type": "code",
   "execution_count": 78,
   "metadata": {},
   "outputs": [
    {
     "name": "stdout",
     "output_type": "stream",
     "text": [
      "KNN:\n",
      "\n",
      "Accuracy: 0.9222546972860124\n",
      "Precision: 0.9305052887839723\n",
      "Recall: 0.9222546972860124\n",
      "F-score: 0.9201809627523501\n",
      "\n",
      "Macierz konfuzji:\n",
      "\n",
      "[[2884    4]\n",
      " [ 434 1468]]\n"
     ]
    },
    {
     "data": {
      "image/png": "[encoded data removed]",
      "text/plain": [
       "<Figure size 432x288 with 2 Axes>"
      ]
     },
     "metadata": {
      "needs_background": "light"
     },
     "output_type": "display_data"
    }
   ],
   "source": [
    "from sklearn.neighbors import KNeighborsClassifier\n",
    "\n",
    "do_the_thing(KNeighborsClassifier(metric='euclidean'), name='KNN', data=datContent)"
   ]
  },
  {
   "cell_type": "code",
   "execution_count": 79,
   "metadata": {},
   "outputs": [
    {
     "name": "stdout",
     "output_type": "stream",
     "text": [
      "Decision Tree:\n",
      "\n",
      "Accuracy: 0.9721503131524007\n",
      "Precision: 0.9721743214917977\n",
      "Recall: 0.9721503131524007\n",
      "F-score: 0.9721333613265095\n",
      "\n",
      "Macierz konfuzji:\n",
      "\n",
      "[[2848   76]\n",
      " [  68 1798]]\n"
     ]
    },
    {
     "data": {
      "image/png": "[encoded data removed]",
      "text/plain": [
       "<Figure size 432x288 with 2 Axes>"
      ]
     },
     "metadata": {
      "needs_background": "light"
     },
     "output_type": "display_data"
    }
   ],
   "source": [
    "from sklearn.tree import DecisionTreeClassifier\n",
    "\n",
    "do_the_thing(DecisionTreeClassifier(), name='Decision Tree', data=datContent)"
   ]
  },
  {
   "cell_type": "code",
   "execution_count": 84,
   "metadata": {},
   "outputs": [
    {
     "name": "stdout",
     "output_type": "stream",
     "text": [
      "Naive Bayes:\n",
      "\n",
      "Accuracy: 0.9774530271398747\n",
      "Precision: 0.9775114444379328\n",
      "Recall: 0.9774530271398747\n",
      "F-score: 0.977470934243289\n",
      "\n",
      "Macierz konfuzji:\n",
      "\n",
      "[[2928   62]\n",
      " [  52 1748]]\n"
     ]
    },
    {
     "data": {
      "image/png": "[encoded data removed]",
      "text/plain": [
       "<Figure size 432x288 with 2 Axes>"
      ]
     },
     "metadata": {
      "needs_background": "light"
     },
     "output_type": "display_data"
    }
   ],
   "source": [
    "from sklearn.naive_bayes import MultinomialNB\n",
    "\n",
    "do_the_thing(MultinomialNB(), name='Naive Bayes', data=datContent)"
   ]
  },
  {
   "cell_type": "code",
   "execution_count": 108,
   "metadata": {},
   "outputs": [
    {
     "name": "stdout",
     "output_type": "stream",
     "text": [
      "Multi-layer Perceptron:\n",
      "\n",
      "Accuracy: 0.9820876826722337\n",
      "Precision: 0.98217076053753\n",
      "Recall: 0.9820876826722337\n",
      "F-score: 0.9820571051902588\n",
      "\n",
      "Macierz konfuzji:\n",
      "\n",
      "[[2891   37]\n",
      " [  39 1823]]\n"
     ]
    },
    {
     "data": {
      "image/png": "[encoded data removed]",
      "text/plain": [
       "<Figure size 432x288 with 2 Axes>"
      ]
     },
     "metadata": {
      "needs_background": "light"
     },
     "output_type": "display_data"
    }
   ],
   "source": [
    "from sklearn.neural_network import MLPClassifier\n",
    "\n",
    "do_the_thing(MLPClassifier(), name='Multi-layer Perceptron', data=datContent)"
   ]
  },
  {
   "cell_type": "markdown",
   "metadata": {},
   "source": [
    "# Najlepsze do tej pory"
   ]
  },
  {
   "cell_type": "code",
   "execution_count": 88,
   "metadata": {},
   "outputs": [],
   "source": [
    "models = {\n",
    "    'SVM': svm.SVC(gamma='scale'),\n",
    "    'KNN': KNeighborsClassifier(metric='euclidean'),\n",
    "    'Decision Tree': DecisionTreeClassifier(),\n",
    "    'Naive Bayes': MultinomialNB(),\n",
    "    'Multi-layer Perceptron': MLPClassifier()\n",
    "}\n",
    "\n",
    "all_fscores = []\n",
    "\n",
    "for model in models:\n",
    "    accuracy, precision, recall, fscore, cm = calculateStats(models[model], model, datContent)\n",
    "    all_fscores.append(fscore)"
   ]
  },
  {
   "cell_type": "code",
   "execution_count": 90,
   "metadata": {},
   "outputs": [
    {
     "data": {
      "text/plain": [
       "Text(0.5, 1.0, 'F-sscore klasyfikatorów')"
      ]
     },
     "execution_count": 90,
     "metadata": {},
     "output_type": "execute_result"
    },
    {
     "data": {
      "image/png": "[encoded data removed]",
      "text/plain": [
       "<Figure size 432x288 with 1 Axes>"
      ]
     },
     "metadata": {
      "needs_background": "light"
     },
     "output_type": "display_data"
    }
   ],
   "source": [
    "fig = plt.figure()\n",
    "\n",
    "X = list(models.keys())\n",
    "Y = all_fscores\n",
    "\n",
    "plt.barh(X, Y, alpha=0.5)\n",
    "plt.axvline(x=.97, color='r')\n",
    "plt.xlabel('Wartość f-score')\n",
    "plt.title('F-sscore klasyfikatorów')"
   ]
  },
  {
   "cell_type": "markdown",
   "metadata": {},
   "source": [
    "**Do dalszej części przechodzą**:\n",
    "\n",
    " * Naive Bayes\n",
    " * Multi-layer Perceptron\n",
    " * SVM"
   ]
  },
  {
   "cell_type": "markdown",
   "metadata": {},
   "source": [
    "# Hiperparametry"
   ]
  },
  {
   "cell_type": "code",
   "execution_count": 91,
   "metadata": {},
   "outputs": [],
   "source": [
    "models = {\n",
    "    'SVM': svm.SVC(gamma='scale'),\n",
    "    'Naive Bayes': MultinomialNB(),\n",
    "    'Multi-layer Perceptron': MLPClassifier()\n",
    "}"
   ]
  },
  {
   "cell_type": "code",
   "execution_count": 107,
   "metadata": {},
   "outputs": [
    {
     "data": {
      "text/plain": [
       "(0.95, 1.0)"
      ]
     },
     "execution_count": 107,
     "metadata": {},
     "output_type": "execute_result"
    },
    {
     "data": {
      "image/png": "[encoded data removed]",
      "text/plain": [
       "<Figure size 432x288 with 1 Axes>"
      ]
     },
     "metadata": {
      "needs_background": "light"
     },
     "output_type": "display_data"
    }
   ],
   "source": [
    "all_fscores = []\n",
    "names = []\n",
    "alphas = [0.01, 0.1, 0.2, 0.3, 0.4, 0.5, 0.7, 0.9, 1.0]\n",
    "\n",
    "for alpha_v in alphas:\n",
    "    name = 'Naive Bayes(alpha= ' + str(alpha_v) + ')'\n",
    "    accuracy, precision, recall, fscore, cm = calculateStats(MultinomialNB(alpha=alpha_v), name, datContent)\n",
    "    all_fscores.append(fscore)\n",
    "    names.append(name)\n",
    "\n",
    "fig = plt.figure()\n",
    "\n",
    "X = names\n",
    "Y = all_fscores\n",
    "\n",
    "plt.barh(X, Y, alpha=0.5)\n",
    "plt.axvline(x=.97, color='r')\n",
    "plt.xlabel('Wartość f-score')\n",
    "plt.title('F-sscore klasyfikatorów')\n",
    "plt.xlim(0.95, 1.0)"
   ]
  },
  {
   "cell_type": "code",
   "execution_count": 110,
   "metadata": {},
   "outputs": [
    {
     "name": "stdout",
     "output_type": "stream",
     "text": [
      "Naive Bayes(alpha=0.9):\n",
      "\n",
      "Accuracy: 0.9788726513569938\n",
      "Precision: 0.9788905372394238\n",
      "Recall: 0.9788726513569938\n",
      "F-score: 0.9788767909227645\n",
      "\n",
      "Macierz konfuzji:\n",
      "\n",
      "[[2932   40]\n",
      " [  50 1768]]\n"
     ]
    },
    {
     "data": {
      "image/png": "[encoded data removed]",
      "text/plain": [
       "<Figure size 432x288 with 2 Axes>"
      ]
     },
     "metadata": {
      "needs_background": "light"
     },
     "output_type": "display_data"
    }
   ],
   "source": [
    "do_the_thing(MultinomialNB(alpha=0.9), name='Naive Bayes(alpha=0.9)', data=datContent)"
   ]
  },
  {
   "cell_type": "code",
   "execution_count": 111,
   "metadata": {},
   "outputs": [
    {
     "data": {
      "text/plain": [
       "(0.95, 1.0)"
      ]
     },
     "execution_count": 111,
     "metadata": {},
     "output_type": "execute_result"
    },
    {
     "data": {
      "image/png": "[encoded data removed]",
      "text/plain": [
       "<Figure size 432x288 with 1 Axes>"
      ]
     },
     "metadata": {
      "needs_background": "light"
     },
     "output_type": "display_data"
    }
   ],
   "source": [
    "all_fscores = []\n",
    "names = []\n",
    "fit_priors = [False, True]\n",
    "\n",
    "for fit_prior in fit_priors:\n",
    "    name = 'Naive Bayes(alpha=0.9, fit_prior=' + str(fit_prior) + ')'\n",
    "    accuracy, precision, recall, fscore, cm = calculateStats(MultinomialNB(alpha=0.9, fit_prior=fit_prior), name, datContent)\n",
    "    all_fscores.append(fscore)\n",
    "    names.append(name)\n",
    "\n",
    "fig = plt.figure()\n",
    "\n",
    "X = names\n",
    "Y = all_fscores\n",
    "\n",
    "plt.barh(X, Y, alpha=0.5)\n",
    "plt.axvline(x=.97, color='r')\n",
    "plt.xlabel('Wartość f-score')\n",
    "plt.title('F-sscore klasyfikatorów')\n",
    "plt.xlim(0.95, 1.0)"
   ]
  },
  {
   "cell_type": "code",
   "execution_count": 113,
   "metadata": {},
   "outputs": [
    {
     "name": "stdout",
     "output_type": "stream",
     "text": [
      "Naive Bayes(alpha=0.9, fit_prior=True):\n",
      "\n",
      "Accuracy: 0.9789561586638831\n",
      "Precision: 0.9789612692797484\n",
      "Recall: 0.9789561586638831\n",
      "F-score: 0.97895302336818\n",
      "\n",
      "Macierz konfuzji:\n",
      "\n",
      "[[2854   54]\n",
      " [  40 1842]]\n"
     ]
    },
    {
     "data": {
      "image/png": "[encoded data removed]",
      "text/plain": [
       "<Figure size 432x288 with 2 Axes>"
      ]
     },
     "metadata": {
      "needs_background": "light"
     },
     "output_type": "display_data"
    }
   ],
   "source": [
    "do_the_thing(MultinomialNB(alpha=0.9, fit_prior=True), name='Naive Bayes(alpha=0.9, fit_prior=True)', data=datContent)"
   ]
  },
  {
   "cell_type": "code",
   "execution_count": 116,
   "metadata": {},
   "outputs": [
    {
     "data": {
      "text/plain": [
       "(0.95, 1.0)"
      ]
     },
     "execution_count": 116,
     "metadata": {},
     "output_type": "execute_result"
    },
    {
     "data": {
      "image/png": "[encoded data removed]",
      "text/plain": [
       "<Figure size 432x288 with 1 Axes>"
      ]
     },
     "metadata": {
      "needs_background": "light"
     },
     "output_type": "display_data"
    }
   ],
   "source": [
    "all_fscores = []\n",
    "names = []\n",
    "kernels = ['linear', 'poly', 'rbf', 'sigmoid']\n",
    "\n",
    "for kernel in kernels:\n",
    "    name = 'SVC(kernel=' + str(kernel) + ')'\n",
    "    accuracy, precision, recall, fscore, cm = calculateStats(svm.SVC(kernel=kernel, gamma='scale'), name, datContent)\n",
    "    all_fscores.append(fscore)\n",
    "    names.append(name)\n",
    "\n",
    "fig = plt.figure()\n",
    "\n",
    "X = names\n",
    "Y = all_fscores\n",
    "\n",
    "plt.barh(X, Y, alpha=0.5)\n",
    "plt.axvline(x=.97, color='r')\n",
    "plt.xlabel('Wartość f-score')\n",
    "plt.title('F-sscore klasyfikatorów')\n",
    "plt.xlim(0.95, 1.0)"
   ]
  },
  {
   "cell_type": "code",
   "execution_count": 121,
   "metadata": {},
   "outputs": [
    {
     "name": "stdout",
     "output_type": "stream",
     "text": [
      "SVC(kernel=linear):\n",
      "\n",
      "Accuracy: 0.9810438413361169\n",
      "Precision: 0.9811346070040214\n",
      "Recall: 0.9810438413361169\n",
      "F-score: 0.9809991297583641\n",
      "\n",
      "Macierz konfuzji:\n",
      "\n",
      "[[2954   28]\n",
      " [  54 1754]]\n"
     ]
    },
    {
     "data": {
      "image/png": "[encoded data removed]",
      "text/plain": [
       "<Figure size 432x288 with 2 Axes>"
      ]
     },
     "metadata": {
      "needs_background": "light"
     },
     "output_type": "display_data"
    }
   ],
   "source": [
    "do_the_thing(svm.SVC(kernel='linear', gamma='scale'), name='SVC(kernel=linear)', data=datContent)"
   ]
  },
  {
   "cell_type": "code",
   "execution_count": 119,
   "metadata": {},
   "outputs": [
    {
     "name": "stdout",
     "output_type": "stream",
     "text": [
      "SVC(kernel=rbf):\n",
      "\n",
      "Accuracy: 0.9818789144050104\n",
      "Precision: 0.9820810781028957\n",
      "Recall: 0.9818789144050104\n",
      "F-score: 0.9818216836872355\n",
      "\n",
      "Macierz konfuzji:\n",
      "\n",
      "[[3004   20]\n",
      " [  64 1702]]\n"
     ]
    },
    {
     "data": {
      "image/png": "[encoded data removed]",
      "text/plain": [
       "<Figure size 432x288 with 2 Axes>"
      ]
     },
     "metadata": {
      "needs_background": "light"
     },
     "output_type": "display_data"
    }
   ],
   "source": [
    "do_the_thing(svm.SVC(kernel='rbf', gamma='scale'), name='SVC(kernel=rbf)', data=datContent)"
   ]
  },
  {
   "cell_type": "code",
   "execution_count": 122,
   "metadata": {},
   "outputs": [
    {
     "data": {
      "text/plain": [
       "(0.95, 1.0)"
      ]
     },
     "execution_count": 122,
     "metadata": {},
     "output_type": "execute_result"
    },
    {
     "data": {
      "image/png": "[encoded data removed]",
      "text/plain": [
       "<Figure size 432x288 with 1 Axes>"
      ]
     },
     "metadata": {
      "needs_background": "light"
     },
     "output_type": "display_data"
    }
   ],
   "source": [
    "all_fscores = []\n",
    "names = []\n",
    "kernels = ['linear', 'rbf']\n",
    "shrinkings = [True, False]\n",
    "probabilities = [True, False]\n",
    "\n",
    "\n",
    "for kernel in kernels:\n",
    "    for shrinking in shrinkings:\n",
    "        for probability in probabilities:\n",
    "            name = 'SVC(kernel=' + str(kernel) + ', shrinking=' + str(shrinking) + ', probability= ' + str(probability) + ')'\n",
    "            accuracy, precision, recall, fscore, cm = calculateStats(svm.SVC(kernel=kernel, gamma='scale', shrinking=shrinking, probability=probability), name, datContent)\n",
    "            all_fscores.append(fscore)\n",
    "            names.append(name)\n",
    "\n",
    "fig = plt.figure()\n",
    "\n",
    "X = names\n",
    "Y = all_fscores\n",
    "\n",
    "plt.barh(X, Y, alpha=0.5)\n",
    "plt.axvline(x=.97, color='r')\n",
    "plt.xlabel('Wartość f-score')\n",
    "plt.title('F-sscore klasyfikatorów')\n",
    "plt.xlim(0.95, 1.0)"
   ]
  },
  {
   "cell_type": "code",
   "execution_count": 127,
   "metadata": {},
   "outputs": [
    {
     "name": "stdout",
     "output_type": "stream",
     "text": [
      "SVC(kernel=rbf, shrinking=False, probability= False):\n",
      "\n",
      "Accuracy: 0.9847181628392484\n",
      "Precision: 0.9848453973291278\n",
      "Recall: 0.9847181628392484\n",
      "F-score: 0.9846800464334683\n",
      "\n",
      "Macierz konfuzji:\n",
      "\n",
      "[[2918   20]\n",
      " [  62 1790]]\n"
     ]
    },
    {
     "data": {
      "image/png": "[encoded data removed]",
      "text/plain": [
       "<Figure size 432x288 with 2 Axes>"
      ]
     },
     "metadata": {
      "needs_background": "light"
     },
     "output_type": "display_data"
    }
   ],
   "source": [
    "do_the_thing(svm.SVC(kernel='rbf', gamma='scale', shrinking=False, probability= False), name='SVC(kernel=rbf, shrinking=False, probability= False)', data=datContent)"
   ]
  },
  {
   "cell_type": "code",
   "execution_count": null,
   "metadata": {},
   "outputs": [],
   "source": [
    "all_fscores = []\n",
    "names = []\n",
    "hidden_layer_sizess = [(100,), (200,100,50,), (50,25,10,), (100,50,25,)]\n",
    "activations = ['identity', 'logistic', 'tanh', 'relu']\n",
    "solvers = ['lbfgs', 'sgd', 'adam']\n",
    "learning_rates = ['constant', 'invscaling', 'adaptive']\n",
    "\n",
    "\n",
    "for hidden_layer_sizes in hidden_layer_sizess:\n",
    "    for activation in activations:\n",
    "        for solver in solvers:\n",
    "            for learning_rate in learning_rates:\n",
    "                name = 'MLPClassifier(hidden_layer_sizes=' + str(hidden_layer_sizes) + ', activation=' + str(activation) + ', solver= ' + str(solver) + ', learning_rate= ' + str(learning_rate) + ')'\n",
    "                accuracy, precision, recall, fscore, cm = calculateStats(MLPClassifier(hidden_layer_sizes=hidden_layer_sizes, activation=activation, solver=solver, learning_rate=learning_rate), name, datContent)\n",
    "                all_fscores.append(fscore)\n",
    "                names.append(name)\n",
    "\n",
    "fig = plt.figure()\n",
    "\n",
    "X = names\n",
    "Y = all_fscores\n",
    "\n",
    "plt.barh(X, Y, alpha=0.5)\n",
    "plt.axvline(x=.97, color='r')\n",
    "plt.xlabel('Wartość f-score')\n",
    "plt.title('F-sscore klasyfikatorów')\n",
    "plt.xlim(0.95, 1.0)\n",
    "\n",
    "odp = dict(zip(names, all_fscores))\n",
    "print(odp)"
   ]
  },
  {
   "cell_type": "code",
   "execution_count": null,
   "metadata": {},
   "outputs": [],
   "source": []
  },
  {
   "cell_type": "markdown",
   "metadata": {},
   "source": [
    "# Ranking cech"
   ]
  },
  {
   "cell_type": "code",
   "execution_count": 17,
   "metadata": {},
   "outputs": [],
   "source": [
    "from sklearn.feature_selection import SelectKBest\n",
    "from sklearn.feature_selection import chi2, mutual_info_classif\n",
    "\n",
    "X = datContent.drop('K', axis = 1)\n",
    "Y = datContent.K\n",
    "test = SelectKBest(score_func=chi2, k=2)\n",
    "test.fit(X, Y)\n",
    "\n",
    "scores = []\n",
    "num_features = len(X.columns)\n",
    "for i in range(num_features):\n",
    "    score = test.scores_[i]\n",
    "    scores.append((score, X.columns[i]))\n",
    "\n",
    "sortedFeatures = sorted(scores, reverse = True)\n",
    "sortedFeatures = list(map(lambda x: x[1], sortedFeatures))"
   ]
  },
  {
   "cell_type": "code",
   "execution_count": 20,
   "metadata": {},
   "outputs": [
    {
     "name": "stdout",
     "output_type": "stream",
     "text": [
      "range(1, 463)\n"
     ]
    }
   ],
   "source": [
    "feature_list = range(1, len(sortedFeatures) + 1)\n",
    "\n",
    "print(feature_list)"
   ]
  },
  {
   "cell_type": "code",
   "execution_count": 68,
   "metadata": {},
   "outputs": [
    {
     "data": {
      "text/html": [
       "<div>\n",
       "<style scoped>\n",
       "    .dataframe tbody tr th:only-of-type {\n",
       "        vertical-align: middle;\n",
       "    }\n",
       "\n",
       "    .dataframe tbody tr th {\n",
       "        vertical-align: top;\n",
       "    }\n",
       "\n",
       "    .dataframe thead th {\n",
       "        text-align: right;\n",
       "    }\n",
       "</style>\n",
       "<table border=\"1\" class=\"dataframe\">\n",
       "  <thead>\n",
       "    <tr style=\"text-align: right;\">\n",
       "      <th></th>\n",
       "      <th>0</th>\n",
       "      <th>1</th>\n",
       "      <th>2</th>\n",
       "      <th>3</th>\n",
       "      <th>4</th>\n",
       "      <th>5</th>\n",
       "      <th>6</th>\n",
       "      <th>7</th>\n",
       "      <th>8</th>\n",
       "      <th>9</th>\n",
       "      <th>10</th>\n",
       "      <th>11</th>\n",
       "      <th>12</th>\n",
       "      <th>13</th>\n",
       "      <th>14</th>\n",
       "      <th>15</th>\n",
       "      <th>16</th>\n",
       "      <th>17</th>\n",
       "      <th>18</th>\n",
       "      <th>19</th>\n",
       "    </tr>\n",
       "  </thead>\n",
       "  <tbody>\n",
       "    <tr>\n",
       "      <th>0</th>\n",
       "      <td>0</td>\n",
       "      <td>0</td>\n",
       "      <td>0</td>\n",
       "      <td>1</td>\n",
       "      <td>1</td>\n",
       "      <td>0</td>\n",
       "      <td>0</td>\n",
       "      <td>0</td>\n",
       "      <td>0</td>\n",
       "      <td>0</td>\n",
       "      <td>0</td>\n",
       "      <td>0</td>\n",
       "      <td>1</td>\n",
       "      <td>0</td>\n",
       "      <td>1</td>\n",
       "      <td>0</td>\n",
       "      <td>0</td>\n",
       "      <td>0</td>\n",
       "      <td>0</td>\n",
       "      <td>0</td>\n",
       "    </tr>\n",
       "    <tr>\n",
       "      <th>1</th>\n",
       "      <td>0</td>\n",
       "      <td>0</td>\n",
       "      <td>0</td>\n",
       "      <td>0</td>\n",
       "      <td>0</td>\n",
       "      <td>0</td>\n",
       "      <td>0</td>\n",
       "      <td>0</td>\n",
       "      <td>0</td>\n",
       "      <td>0</td>\n",
       "      <td>0</td>\n",
       "      <td>0</td>\n",
       "      <td>0</td>\n",
       "      <td>1</td>\n",
       "      <td>1</td>\n",
       "      <td>0</td>\n",
       "      <td>0</td>\n",
       "      <td>0</td>\n",
       "      <td>1</td>\n",
       "      <td>0</td>\n",
       "    </tr>\n",
       "    <tr>\n",
       "      <th>2</th>\n",
       "      <td>1</td>\n",
       "      <td>1</td>\n",
       "      <td>1</td>\n",
       "      <td>1</td>\n",
       "      <td>1</td>\n",
       "      <td>0</td>\n",
       "      <td>1</td>\n",
       "      <td>0</td>\n",
       "      <td>0</td>\n",
       "      <td>0</td>\n",
       "      <td>1</td>\n",
       "      <td>0</td>\n",
       "      <td>0</td>\n",
       "      <td>0</td>\n",
       "      <td>0</td>\n",
       "      <td>0</td>\n",
       "      <td>0</td>\n",
       "      <td>0</td>\n",
       "      <td>0</td>\n",
       "      <td>1</td>\n",
       "    </tr>\n",
       "    <tr>\n",
       "      <th>3</th>\n",
       "      <td>0</td>\n",
       "      <td>0</td>\n",
       "      <td>0</td>\n",
       "      <td>0</td>\n",
       "      <td>0</td>\n",
       "      <td>0</td>\n",
       "      <td>0</td>\n",
       "      <td>0</td>\n",
       "      <td>0</td>\n",
       "      <td>0</td>\n",
       "      <td>0</td>\n",
       "      <td>0</td>\n",
       "      <td>0</td>\n",
       "      <td>0</td>\n",
       "      <td>1</td>\n",
       "      <td>0</td>\n",
       "      <td>0</td>\n",
       "      <td>0</td>\n",
       "      <td>1</td>\n",
       "      <td>0</td>\n",
       "    </tr>\n",
       "    <tr>\n",
       "      <th>4</th>\n",
       "      <td>0</td>\n",
       "      <td>0</td>\n",
       "      <td>0</td>\n",
       "      <td>0</td>\n",
       "      <td>0</td>\n",
       "      <td>0</td>\n",
       "      <td>0</td>\n",
       "      <td>0</td>\n",
       "      <td>0</td>\n",
       "      <td>0</td>\n",
       "      <td>1</td>\n",
       "      <td>0</td>\n",
       "      <td>0</td>\n",
       "      <td>0</td>\n",
       "      <td>1</td>\n",
       "      <td>0</td>\n",
       "      <td>0</td>\n",
       "      <td>0</td>\n",
       "      <td>0</td>\n",
       "      <td>0</td>\n",
       "    </tr>\n",
       "  </tbody>\n",
       "</table>\n",
       "</div>"
      ],
      "text/plain": [
       "   0  1  2  3  4  5  6  7  8  9  10  11  12  13  14  15  16  17  18  19\n",
       "0  0  0  0  1  1  0  0  0  0  0   0   0   1   0   1   0   0   0   0   0\n",
       "1  0  0  0  0  0  0  0  0  0  0   0   0   0   1   1   0   0   0   1   0\n",
       "2  1  1  1  1  1  0  1  0  0  0   1   0   0   0   0   0   0   0   0   1\n",
       "3  0  0  0  0  0  0  0  0  0  0   0   0   0   0   1   0   0   0   1   0\n",
       "4  0  0  0  0  0  0  0  0  0  0   1   0   0   0   1   0   0   0   0   0"
      ]
     },
     "execution_count": 68,
     "metadata": {},
     "output_type": "execute_result"
    }
   ],
   "source": [
    "X_new = pd.DataFrame(X_new) \n",
    "X_new.head()"
   ]
  },
  {
   "cell_type": "code",
   "execution_count": 74,
   "metadata": {},
   "outputs": [],
   "source": [
    "X_new.insert(20, \"K\", y, True) "
   ]
  },
  {
   "cell_type": "code",
   "execution_count": 75,
   "metadata": {},
   "outputs": [
    {
     "data": {
      "text/html": [
       "<div>\n",
       "<style scoped>\n",
       "    .dataframe tbody tr th:only-of-type {\n",
       "        vertical-align: middle;\n",
       "    }\n",
       "\n",
       "    .dataframe tbody tr th {\n",
       "        vertical-align: top;\n",
       "    }\n",
       "\n",
       "    .dataframe thead th {\n",
       "        text-align: right;\n",
       "    }\n",
       "</style>\n",
       "<table border=\"1\" class=\"dataframe\">\n",
       "  <thead>\n",
       "    <tr style=\"text-align: right;\">\n",
       "      <th></th>\n",
       "      <th>0</th>\n",
       "      <th>1</th>\n",
       "      <th>2</th>\n",
       "      <th>3</th>\n",
       "      <th>4</th>\n",
       "      <th>5</th>\n",
       "      <th>6</th>\n",
       "      <th>7</th>\n",
       "      <th>8</th>\n",
       "      <th>9</th>\n",
       "      <th>...</th>\n",
       "      <th>12</th>\n",
       "      <th>13</th>\n",
       "      <th>14</th>\n",
       "      <th>15</th>\n",
       "      <th>16</th>\n",
       "      <th>17</th>\n",
       "      <th>18</th>\n",
       "      <th>19</th>\n",
       "      <th>K</th>\n",
       "      <th>K</th>\n",
       "    </tr>\n",
       "  </thead>\n",
       "  <tbody>\n",
       "    <tr>\n",
       "      <th>0</th>\n",
       "      <td>0</td>\n",
       "      <td>0</td>\n",
       "      <td>0</td>\n",
       "      <td>1</td>\n",
       "      <td>1</td>\n",
       "      <td>0</td>\n",
       "      <td>0</td>\n",
       "      <td>0</td>\n",
       "      <td>0</td>\n",
       "      <td>0</td>\n",
       "      <td>...</td>\n",
       "      <td>1</td>\n",
       "      <td>0</td>\n",
       "      <td>1</td>\n",
       "      <td>0</td>\n",
       "      <td>0</td>\n",
       "      <td>0</td>\n",
       "      <td>0</td>\n",
       "      <td>0</td>\n",
       "      <td>NaN</td>\n",
       "      <td>NaN</td>\n",
       "    </tr>\n",
       "    <tr>\n",
       "      <th>1</th>\n",
       "      <td>0</td>\n",
       "      <td>0</td>\n",
       "      <td>0</td>\n",
       "      <td>0</td>\n",
       "      <td>0</td>\n",
       "      <td>0</td>\n",
       "      <td>0</td>\n",
       "      <td>0</td>\n",
       "      <td>0</td>\n",
       "      <td>0</td>\n",
       "      <td>...</td>\n",
       "      <td>0</td>\n",
       "      <td>1</td>\n",
       "      <td>1</td>\n",
       "      <td>0</td>\n",
       "      <td>0</td>\n",
       "      <td>0</td>\n",
       "      <td>1</td>\n",
       "      <td>0</td>\n",
       "      <td>NaN</td>\n",
       "      <td>NaN</td>\n",
       "    </tr>\n",
       "    <tr>\n",
       "      <th>2</th>\n",
       "      <td>1</td>\n",
       "      <td>1</td>\n",
       "      <td>1</td>\n",
       "      <td>1</td>\n",
       "      <td>1</td>\n",
       "      <td>0</td>\n",
       "      <td>1</td>\n",
       "      <td>0</td>\n",
       "      <td>0</td>\n",
       "      <td>0</td>\n",
       "      <td>...</td>\n",
       "      <td>0</td>\n",
       "      <td>0</td>\n",
       "      <td>0</td>\n",
       "      <td>0</td>\n",
       "      <td>0</td>\n",
       "      <td>0</td>\n",
       "      <td>0</td>\n",
       "      <td>1</td>\n",
       "      <td>NaN</td>\n",
       "      <td>NaN</td>\n",
       "    </tr>\n",
       "    <tr>\n",
       "      <th>3</th>\n",
       "      <td>0</td>\n",
       "      <td>0</td>\n",
       "      <td>0</td>\n",
       "      <td>0</td>\n",
       "      <td>0</td>\n",
       "      <td>0</td>\n",
       "      <td>0</td>\n",
       "      <td>0</td>\n",
       "      <td>0</td>\n",
       "      <td>0</td>\n",
       "      <td>...</td>\n",
       "      <td>0</td>\n",
       "      <td>0</td>\n",
       "      <td>1</td>\n",
       "      <td>0</td>\n",
       "      <td>0</td>\n",
       "      <td>0</td>\n",
       "      <td>1</td>\n",
       "      <td>0</td>\n",
       "      <td>NaN</td>\n",
       "      <td>NaN</td>\n",
       "    </tr>\n",
       "    <tr>\n",
       "      <th>4</th>\n",
       "      <td>0</td>\n",
       "      <td>0</td>\n",
       "      <td>0</td>\n",
       "      <td>0</td>\n",
       "      <td>0</td>\n",
       "      <td>0</td>\n",
       "      <td>0</td>\n",
       "      <td>0</td>\n",
       "      <td>0</td>\n",
       "      <td>0</td>\n",
       "      <td>...</td>\n",
       "      <td>0</td>\n",
       "      <td>0</td>\n",
       "      <td>1</td>\n",
       "      <td>0</td>\n",
       "      <td>0</td>\n",
       "      <td>0</td>\n",
       "      <td>0</td>\n",
       "      <td>0</td>\n",
       "      <td>NaN</td>\n",
       "      <td>NaN</td>\n",
       "    </tr>\n",
       "  </tbody>\n",
       "</table>\n",
       "<p>5 rows × 22 columns</p>\n",
       "</div>"
      ],
      "text/plain": [
       "   0  1  2  3  4  5  6  7  8  9  ...  12  13  14  15  16  17  18  19    K    K\n",
       "0  0  0  0  1  1  0  0  0  0  0  ...   1   0   1   0   0   0   0   0  NaN  NaN\n",
       "1  0  0  0  0  0  0  0  0  0  0  ...   0   1   1   0   0   0   1   0  NaN  NaN\n",
       "2  1  1  1  1  1  0  1  0  0  0  ...   0   0   0   0   0   0   0   1  NaN  NaN\n",
       "3  0  0  0  0  0  0  0  0  0  0  ...   0   0   1   0   0   0   1   0  NaN  NaN\n",
       "4  0  0  0  0  0  0  0  0  0  0  ...   0   0   1   0   0   0   0   0  NaN  NaN\n",
       "\n",
       "[5 rows x 22 columns]"
      ]
     },
     "execution_count": 75,
     "metadata": {},
     "output_type": "execute_result"
    }
   ],
   "source": [
    "X_new.head()"
   ]
  },
  {
   "cell_type": "code",
   "execution_count": 76,
   "metadata": {},
   "outputs": [
    {
     "data": {
      "text/plain": [
       "0    yes\n",
       "1     no\n",
       "2    yes\n",
       "3     no\n",
       "4    yes\n",
       "Name: K, dtype: object"
      ]
     },
     "execution_count": 76,
     "metadata": {},
     "output_type": "execute_result"
    }
   ],
   "source": [
    "y.head()\n"
   ]
  },
  {
   "cell_type": "code",
   "execution_count": 77,
   "metadata": {},
   "outputs": [
    {
     "data": {
      "text/plain": [
       "(4789,)"
      ]
     },
     "execution_count": 77,
     "metadata": {},
     "output_type": "execute_result"
    }
   ],
   "source": [
    "y.shape"
   ]
  },
  {
   "cell_type": "code",
   "execution_count": null,
   "metadata": {},
   "outputs": [],
   "source": []
  },
  {
   "cell_type": "code",
   "execution_count": 50,
   "metadata": {},
   "outputs": [],
   "source": [
    "# from sklearn.feature_selection import SelectKBest\n",
    "# from sklearn.feature_selection import chi2, mutual_info_classif\n",
    "\n",
    "# test = SelectKBest(score_func=chi2, k=2)\n",
    "# test.fit(X, y)\n",
    "\n",
    "# scores = []\n",
    "# num_features = len(X.columns)\n",
    "# for i in range(num_features):\n",
    "#     score = test.scores_[i]\n",
    "#     scores.append((score, X.columns[i]))\n",
    "\n",
    "# sortedFeatures = sorted(scores, reverse = True)\n",
    "# sortedFeatures = list(map(lambda x: x[1], sortedFeatures))"
   ]
  },
  {
   "cell_type": "code",
   "execution_count": 51,
   "metadata": {},
   "outputs": [],
   "source": [
    "# print (f'Features Ranking {sortedFeatures}')\n"
   ]
  },
  {
   "cell_type": "code",
   "execution_count": 52,
   "metadata": {},
   "outputs": [],
   "source": [
    "# sns.set()\n",
    "# sns.set_palette(sns.color_palette(\"hls\", len(sortedFeatures)))\n",
    "# sns.pairplot(datContent, vars=X.columns, hue='K', diag_kind='hist', dropna=True, kind='scatter')"
   ]
  }
 ],
 "metadata": {
  "kernelspec": {
   "display_name": "Python 3",
   "language": "python",
   "name": "python3"
  },
  "language_info": {
   "codemirror_mode": {
    "name": "ipython",
    "version": 3
   },
   "file_extension": ".py",
   "mimetype": "text/x-python",
   "name": "python",
   "nbconvert_exporter": "python",
   "pygments_lexer": "ipython3",
   "version": "3.7.4"
  }
 },
 "nbformat": 4,
 "nbformat_minor": 4
}
